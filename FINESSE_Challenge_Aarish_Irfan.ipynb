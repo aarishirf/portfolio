{
  "nbformat": 4,
  "nbformat_minor": 0,
  "metadata": {
    "colab": {
      "name": "FINESSE Challenge - Aarish Irfan.ipynb",
      "provenance": [],
      "collapsed_sections": [],
      "toc_visible": true
    },
    "kernelspec": {
      "name": "python3",
      "display_name": "Python 3"
    },
    "accelerator": "GPU"
  },
  "cells": [
    {
      "cell_type": "markdown",
      "metadata": {
        "id": "0DH07xOElIVD",
        "colab_type": "text"
      },
      "source": [
        "# **FINESSE Challenge - Aarish Irfan**"
      ]
    },
    {
      "cell_type": "markdown",
      "metadata": {
        "id": "-NQOq3n8hicX",
        "colab_type": "text"
      },
      "source": [
        "##Main Idea & Preliminary Design"
      ]
    },
    {
      "cell_type": "markdown",
      "metadata": {
        "id": "tjHoiioVhzJw",
        "colab_type": "text"
      },
      "source": [
        "- Devise a popularity metric through feature engineering to establish the top trending posts on Instagram in April 2020.\n",
        "\n",
        "- Use the calculated popularity metric as the label for training a Deep Neural Network on Instagram comments.\n",
        "\n",
        "- Model predicts whether an Instagram post would trend on the platform based on its comments. Potential usage in predicting fashion trends through NLP."
      ]
    },
    {
      "cell_type": "code",
      "metadata": {
        "id": "mlMbBJXQHUKW",
        "colab_type": "code",
        "colab": {
          "base_uri": "https://localhost:8080/",
          "height": 51
        },
        "outputId": "95ea45d9-aab3-491b-f9f6-f4e0613f14f5"
      },
      "source": [
        "import pandas as pd\n",
        "import numpy as np\n",
        "import matplotlib.pyplot as plt\n",
        "from sklearn.preprocessing import MinMaxScaler\n",
        "from IPython.display import Image\n",
        "from IPython.core.display import HTML \n",
        "!pip install emot\n",
        "!pip install wget\n",
        "import wget\n",
        "import re\n",
        "from emot.emo_unicode import UNICODE_EMO, EMOTICONS\n",
        "from sklearn.model_selection import train_test_split\n",
        "from tensorflow.keras.preprocessing.text import Tokenizer\n",
        "from tensorflow.keras.preprocessing.sequence import pad_sequences\n",
        "from collections import Counter\n",
        "from sklearn.datasets import make_classification\n",
        "from imblearn.over_sampling import SMOTE\n",
        "from imblearn.under_sampling import RandomUnderSampler\n",
        "from imblearn.pipeline import Pipeline\n",
        "import tensorflow as tf"
      ],
      "execution_count": 9,
      "outputs": [
        {
          "output_type": "stream",
          "text": [
            "Requirement already satisfied: emot in /usr/local/lib/python3.6/dist-packages (2.1)\n",
            "Requirement already satisfied: wget in /usr/local/lib/python3.6/dist-packages (3.2)\n"
          ],
          "name": "stdout"
        }
      ]
    },
    {
      "cell_type": "code",
      "metadata": {
        "id": "hqZWos4YIK29",
        "colab_type": "code",
        "colab": {
          "base_uri": "https://localhost:8080/",
          "height": 204
        },
        "outputId": "56bb7884-fda8-4aef-8253-392eee3caa04"
      },
      "source": [
        "raw_post_metrics = pd.read_csv('/content/raw_post_metrics.csv')\n",
        "raw_post_metrics.head()"
      ],
      "execution_count": 10,
      "outputs": [
        {
          "output_type": "execute_result",
          "data": {
            "text/html": [
              "<div>\n",
              "<style scoped>\n",
              "    .dataframe tbody tr th:only-of-type {\n",
              "        vertical-align: middle;\n",
              "    }\n",
              "\n",
              "    .dataframe tbody tr th {\n",
              "        vertical-align: top;\n",
              "    }\n",
              "\n",
              "    .dataframe thead th {\n",
              "        text-align: right;\n",
              "    }\n",
              "</style>\n",
              "<table border=\"1\" class=\"dataframe\">\n",
              "  <thead>\n",
              "    <tr style=\"text-align: right;\">\n",
              "      <th></th>\n",
              "      <th>post_url</th>\n",
              "      <th>num_likes</th>\n",
              "      <th>num_comments</th>\n",
              "      <th>num_views</th>\n",
              "      <th>date_time_collected</th>\n",
              "    </tr>\n",
              "  </thead>\n",
              "  <tbody>\n",
              "    <tr>\n",
              "      <th>0</th>\n",
              "      <td>https://www.instagram.com/p/B_PNBlGDTYQ/</td>\n",
              "      <td>647</td>\n",
              "      <td>15</td>\n",
              "      <td>NaN</td>\n",
              "      <td>2020-04-21 21:00:41</td>\n",
              "    </tr>\n",
              "    <tr>\n",
              "      <th>1</th>\n",
              "      <td>https://www.instagram.com/p/B-jWhHKjDsa/</td>\n",
              "      <td>925</td>\n",
              "      <td>105</td>\n",
              "      <td>NaN</td>\n",
              "      <td>2020-04-21 21:11:39</td>\n",
              "    </tr>\n",
              "    <tr>\n",
              "      <th>2</th>\n",
              "      <td>https://www.instagram.com/p/B-eNiazDOXp/</td>\n",
              "      <td>987</td>\n",
              "      <td>73</td>\n",
              "      <td>NaN</td>\n",
              "      <td>2020-04-21 21:11:42</td>\n",
              "    </tr>\n",
              "    <tr>\n",
              "      <th>3</th>\n",
              "      <td>https://www.instagram.com/p/B-oswDhDUB4/</td>\n",
              "      <td>960</td>\n",
              "      <td>73</td>\n",
              "      <td>NaN</td>\n",
              "      <td>2020-04-21 21:11:47</td>\n",
              "    </tr>\n",
              "    <tr>\n",
              "      <th>4</th>\n",
              "      <td>https://www.instagram.com/p/B-rM41AD62p/</td>\n",
              "      <td>715</td>\n",
              "      <td>67</td>\n",
              "      <td>NaN</td>\n",
              "      <td>2020-04-21 21:11:49</td>\n",
              "    </tr>\n",
              "  </tbody>\n",
              "</table>\n",
              "</div>"
            ],
            "text/plain": [
              "                                   post_url  ...  date_time_collected\n",
              "0  https://www.instagram.com/p/B_PNBlGDTYQ/  ...  2020-04-21 21:00:41\n",
              "1  https://www.instagram.com/p/B-jWhHKjDsa/  ...  2020-04-21 21:11:39\n",
              "2  https://www.instagram.com/p/B-eNiazDOXp/  ...  2020-04-21 21:11:42\n",
              "3  https://www.instagram.com/p/B-oswDhDUB4/  ...  2020-04-21 21:11:47\n",
              "4  https://www.instagram.com/p/B-rM41AD62p/  ...  2020-04-21 21:11:49\n",
              "\n",
              "[5 rows x 5 columns]"
            ]
          },
          "metadata": {
            "tags": []
          },
          "execution_count": 10
        }
      ]
    },
    {
      "cell_type": "code",
      "metadata": {
        "id": "SExu1g65Irfg",
        "colab_type": "code",
        "colab": {
          "base_uri": "https://localhost:8080/",
          "height": 666
        },
        "outputId": "7ca196c9-bf6b-4248-c631-80f175868307"
      },
      "source": [
        "post_metrics_and_comments = pd.read_csv('/content/post_metrics_and_comments.csv')\n",
        "post_metrics_and_comments.head()"
      ],
      "execution_count": 11,
      "outputs": [
        {
          "output_type": "execute_result",
          "data": {
            "text/html": [
              "<div>\n",
              "<style scoped>\n",
              "    .dataframe tbody tr th:only-of-type {\n",
              "        vertical-align: middle;\n",
              "    }\n",
              "\n",
              "    .dataframe tbody tr th {\n",
              "        vertical-align: top;\n",
              "    }\n",
              "\n",
              "    .dataframe thead th {\n",
              "        text-align: right;\n",
              "    }\n",
              "</style>\n",
              "<table border=\"1\" class=\"dataframe\">\n",
              "  <thead>\n",
              "    <tr style=\"text-align: right;\">\n",
              "      <th></th>\n",
              "      <th>post_url</th>\n",
              "      <th>username</th>\n",
              "      <th>date_posted</th>\n",
              "      <th>img_urls</th>\n",
              "      <th>caption</th>\n",
              "      <th>max_likes</th>\n",
              "      <th>max_comments</th>\n",
              "      <th>max_views</th>\n",
              "      <th>followers</th>\n",
              "      <th>following</th>\n",
              "      <th>concatenated_comments</th>\n",
              "    </tr>\n",
              "  </thead>\n",
              "  <tbody>\n",
              "    <tr>\n",
              "      <th>0</th>\n",
              "      <td>https://www.instagram.com/p/B-y2oOeDpj2/</td>\n",
              "      <td>064_steady</td>\n",
              "      <td>2020-04-10</td>\n",
              "      <td>{https://finesse-instagram-post-images.s3-us-w...</td>\n",
              "      <td>온라인개학으로 아침마다 아이들에게 모닝콜을 해줄 수 있어서 행복합니다. 하하하하😭 ...</td>\n",
              "      <td>1019</td>\n",
              "      <td>38</td>\n",
              "      <td>NaN</td>\n",
              "      <td>8423</td>\n",
              "      <td>697</td>\n",
              "      <td>@_o9.02 가입하자 연재야😘|아고 ㅠㅠㅠㅠ 힘드실텐데 아자아자 화이팅입니다 !!...</td>\n",
              "    </tr>\n",
              "    <tr>\n",
              "      <th>1</th>\n",
              "      <td>https://www.instagram.com/p/B_B4e5qDtOU/</td>\n",
              "      <td>064_steady</td>\n",
              "      <td>2020-04-16</td>\n",
              "      <td>{https://finesse-instagram-post-images.s3-us-w...</td>\n",
              "      <td>2014. 04. 16. 우리 모두 웃을 수 있기를... more</td>\n",
              "      <td>1039</td>\n",
              "      <td>12</td>\n",
              "      <td>NaN</td>\n",
              "      <td>8423</td>\n",
              "      <td>697</td>\n",
              "      <td>@nam_bbs 정말요?🙌|옷입는 스타일 너무너무 멋있으세요 ☺️|코디 너무 좋아요...</td>\n",
              "    </tr>\n",
              "    <tr>\n",
              "      <th>2</th>\n",
              "      <td>https://www.instagram.com/p/B-3-Skoj2ub/</td>\n",
              "      <td>064_steady</td>\n",
              "      <td>2020-04-12</td>\n",
              "      <td>{https://finesse-instagram-post-images.s3-us-w...</td>\n",
              "      <td>내일이 월요일이니까 웃자😁... more</td>\n",
              "      <td>764</td>\n",
              "      <td>35</td>\n",
              "      <td>NaN</td>\n",
              "      <td>8423</td>\n",
              "      <td>697</td>\n",
              "      <td>❤️|헐 선생님....멋져요....♥️|워료일 쪼아~ 최고로 쪼아~|Very sum...</td>\n",
              "    </tr>\n",
              "    <tr>\n",
              "      <th>3</th>\n",
              "      <td>https://www.instagram.com/p/B_UhfCuDnJU/</td>\n",
              "      <td>064_steady</td>\n",
              "      <td>2020-04-23</td>\n",
              "      <td>{https://finesse-instagram-post-images.s3-us-w...</td>\n",
              "      <td>너무 배불러요 ㅠㅠㅠ... more</td>\n",
              "      <td>779</td>\n",
              "      <td>56</td>\n",
              "      <td>NaN</td>\n",
              "      <td>8423</td>\n",
              "      <td>697</td>\n",
              "      <td>ㅋㅋㅋㅋㅋㅋㅋㅋㅋㅋ배불러졌다는게 너무 웃겨욬ㅋㅋㅋㅋㅋ|깔끔한 쓰앵님🤭👍🏿|😍😍😍😍❤...</td>\n",
              "    </tr>\n",
              "    <tr>\n",
              "      <th>4</th>\n",
              "      <td>https://www.instagram.com/p/B-6isIeD-0-/</td>\n",
              "      <td>064_steady</td>\n",
              "      <td>2020-04-13</td>\n",
              "      <td>{https://finesse-instagram-post-images.s3-us-w...</td>\n",
              "      <td>월요병 극복🥴</td>\n",
              "      <td>733</td>\n",
              "      <td>26</td>\n",
              "      <td>NaN</td>\n",
              "      <td>8423</td>\n",
              "      <td>697</td>\n",
              "      <td>극복 나이스👍🏻|@mndp404 시간은 결국 흐르니 ㅠㅠ|내일도 화요팅~!|@yeo...</td>\n",
              "    </tr>\n",
              "  </tbody>\n",
              "</table>\n",
              "</div>"
            ],
            "text/plain": [
              "                                   post_url  ...                              concatenated_comments\n",
              "0  https://www.instagram.com/p/B-y2oOeDpj2/  ...  @_o9.02 가입하자 연재야😘|아고 ㅠㅠㅠㅠ 힘드실텐데 아자아자 화이팅입니다 !!...\n",
              "1  https://www.instagram.com/p/B_B4e5qDtOU/  ...  @nam_bbs 정말요?🙌|옷입는 스타일 너무너무 멋있으세요 ☺️|코디 너무 좋아요...\n",
              "2  https://www.instagram.com/p/B-3-Skoj2ub/  ...  ❤️|헐 선생님....멋져요....♥️|워료일 쪼아~ 최고로 쪼아~|Very sum...\n",
              "3  https://www.instagram.com/p/B_UhfCuDnJU/  ...  ㅋㅋㅋㅋㅋㅋㅋㅋㅋㅋ배불러졌다는게 너무 웃겨욬ㅋㅋㅋㅋㅋ|깔끔한 쓰앵님🤭👍🏿|😍😍😍😍❤...\n",
              "4  https://www.instagram.com/p/B-6isIeD-0-/  ...  극복 나이스👍🏻|@mndp404 시간은 결국 흐르니 ㅠㅠ|내일도 화요팅~!|@yeo...\n",
              "\n",
              "[5 rows x 11 columns]"
            ]
          },
          "metadata": {
            "tags": []
          },
          "execution_count": 11
        }
      ]
    },
    {
      "cell_type": "code",
      "metadata": {
        "id": "wzoMHs7mJAQq",
        "colab_type": "code",
        "colab": {
          "base_uri": "https://localhost:8080/",
          "height": 204
        },
        "outputId": "ec451ca6-cdc1-4179-fad8-abfd276df2f3"
      },
      "source": [
        "hashtag_top_appearances = pd.read_csv('/content/hashtag_top_appearances.csv')\n",
        "hashtag_top_appearances.head()"
      ],
      "execution_count": 12,
      "outputs": [
        {
          "output_type": "execute_result",
          "data": {
            "text/html": [
              "<div>\n",
              "<style scoped>\n",
              "    .dataframe tbody tr th:only-of-type {\n",
              "        vertical-align: middle;\n",
              "    }\n",
              "\n",
              "    .dataframe tbody tr th {\n",
              "        vertical-align: top;\n",
              "    }\n",
              "\n",
              "    .dataframe thead th {\n",
              "        text-align: right;\n",
              "    }\n",
              "</style>\n",
              "<table border=\"1\" class=\"dataframe\">\n",
              "  <thead>\n",
              "    <tr style=\"text-align: right;\">\n",
              "      <th></th>\n",
              "      <th>post_url</th>\n",
              "      <th>days_in_hashtag_top_section</th>\n",
              "    </tr>\n",
              "  </thead>\n",
              "  <tbody>\n",
              "    <tr>\n",
              "      <th>0</th>\n",
              "      <td>https://www.instagram.com/p/B-zJQlUI6uN/</td>\n",
              "      <td>38</td>\n",
              "    </tr>\n",
              "    <tr>\n",
              "      <th>1</th>\n",
              "      <td>https://www.instagram.com/p/B-cuVYrJncn/</td>\n",
              "      <td>36</td>\n",
              "    </tr>\n",
              "    <tr>\n",
              "      <th>2</th>\n",
              "      <td>https://www.instagram.com/p/B_CHJzXDeNF/</td>\n",
              "      <td>33</td>\n",
              "    </tr>\n",
              "    <tr>\n",
              "      <th>3</th>\n",
              "      <td>https://www.instagram.com/p/B-_07jGpiWT/</td>\n",
              "      <td>29</td>\n",
              "    </tr>\n",
              "    <tr>\n",
              "      <th>4</th>\n",
              "      <td>https://www.instagram.com/p/B-xB_snKjld/</td>\n",
              "      <td>29</td>\n",
              "    </tr>\n",
              "  </tbody>\n",
              "</table>\n",
              "</div>"
            ],
            "text/plain": [
              "                                   post_url  days_in_hashtag_top_section\n",
              "0  https://www.instagram.com/p/B-zJQlUI6uN/                           38\n",
              "1  https://www.instagram.com/p/B-cuVYrJncn/                           36\n",
              "2  https://www.instagram.com/p/B_CHJzXDeNF/                           33\n",
              "3  https://www.instagram.com/p/B-_07jGpiWT/                           29\n",
              "4  https://www.instagram.com/p/B-xB_snKjld/                           29"
            ]
          },
          "metadata": {
            "tags": []
          },
          "execution_count": 12
        }
      ]
    },
    {
      "cell_type": "markdown",
      "metadata": {
        "id": "6l6FgYQemR17",
        "colab_type": "text"
      },
      "source": [
        "## Popularity Metric with Feature Engineering"
      ]
    },
    {
      "cell_type": "markdown",
      "metadata": {
        "id": "eB39a_3a6o1c",
        "colab_type": "text"
      },
      "source": [
        "To establish top trending posts on Instagram, a popularity metric will be calcalated through feature engineering based on the following features:\n",
        "- Number of Days in Hashtag Top Section\n",
        "- Growth Rate\n",
        "- LTF (Likes to Followers ratio)"
      ]
    },
    {
      "cell_type": "markdown",
      "metadata": {
        "id": "GX_mzOPt7hej",
        "colab_type": "text"
      },
      "source": [
        "**Number of Days in Hashtag Top Section**"
      ]
    },
    {
      "cell_type": "markdown",
      "metadata": {
        "id": "HZfncy9MmVjp",
        "colab_type": "text"
      },
      "source": [
        "Initial idea was to use the **days_in_hashtag_top_section** feature as an indicator of popularity. This was based on reasonable intuition and reliance on Instagram's algorithm to establish trending posts.\n",
        "\n",
        "Further investigation on the **hashtag_top_appearances** dataset rendered the feature unfit to serve as the sole determinant of the popularity metric for the following reasons:\n",
        "- Distribution of the feature was skewed. ~23000 posts were not featured on the top section out of ~25000 posts. \n",
        "- Likes, Comments, Views and other factors associated with social media trends were ignored.\n",
        "- Using only this feature as the label in our DNN would lead to class imbalance, thus adversely affecting model training and performance.\n"
      ]
    },
    {
      "cell_type": "code",
      "metadata": {
        "id": "9cB1rjp3p5zt",
        "colab_type": "code",
        "colab": {
          "base_uri": "https://localhost:8080/",
          "height": 313
        },
        "outputId": "af711e39-e211-4a00-8c37-540f38a6dc97"
      },
      "source": [
        "#histogram showing skewed distribution of our hashtag feature\n",
        "hashtag_top_appearances['days_in_hashtag_top_section'].hist()\n",
        "plt.ylabel(\"Count\")\n",
        "plt.xlabel(\"Days in Hashtag Top Section\")\n",
        "plt.show()\n",
        "\n",
        "print (\"Posts not Featured on Hashtag Section: \" + str(sum(hashtag_top_appearances['days_in_hashtag_top_section'] == 0)))\n",
        "print (\"Posts Featured on Hashtag Section: \" + str(sum(hashtag_top_appearances['days_in_hashtag_top_section'] != 0)))"
      ],
      "execution_count": 13,
      "outputs": [
        {
          "output_type": "display_data",
          "data": {
            "image/png": "[encoded data removed]",
            "text/plain": [
              "<Figure size 432x288 with 1 Axes>"
            ]
          },
          "metadata": {
            "tags": [],
            "needs_background": "light"
          }
        },
        {
          "output_type": "stream",
          "text": [
            "Posts not Featured on Hashtag Section: 23201\n",
            "Posts Featured on Hashtag Section: 1861\n"
          ],
          "name": "stdout"
        }
      ]
    },
    {
      "cell_type": "markdown",
      "metadata": {
        "id": "FesC2vv2MbTW",
        "colab_type": "text"
      },
      "source": [
        "It was clear that our popularity metric needed to be an amalgam of other features associated with social media trends rather than just considering the number of days the post spent in the hashtag top section.\n",
        "\n"
      ]
    },
    {
      "cell_type": "code",
      "metadata": {
        "id": "TzFI6dbEJ_Y-",
        "colab_type": "code",
        "colab": {
          "base_uri": "https://localhost:8080/",
          "height": 564
        },
        "outputId": "026b33e8-ef79-4c72-d661-6378f6356156"
      },
      "source": [
        "#new dataset that merged post metrics with days in hashtag section\n",
        "post_popularity = post_metrics_and_comments[['post_url','img_urls','max_likes',\t'max_comments',\t'max_views'\t,'followers',\t'following']]\n",
        "post_popularity_with_hashtag = post_popularity.merge(hashtag_top_appearances, on='post_url')\n",
        "post_popularity_with_hashtag.head()"
      ],
      "execution_count": 14,
      "outputs": [
        {
          "output_type": "execute_result",
          "data": {
            "text/html": [
              "<div>\n",
              "<style scoped>\n",
              "    .dataframe tbody tr th:only-of-type {\n",
              "        vertical-align: middle;\n",
              "    }\n",
              "\n",
              "    .dataframe tbody tr th {\n",
              "        vertical-align: top;\n",
              "    }\n",
              "\n",
              "    .dataframe thead th {\n",
              "        text-align: right;\n",
              "    }\n",
              "</style>\n",
              "<table border=\"1\" class=\"dataframe\">\n",
              "  <thead>\n",
              "    <tr style=\"text-align: right;\">\n",
              "      <th></th>\n",
              "      <th>post_url</th>\n",
              "      <th>img_urls</th>\n",
              "      <th>max_likes</th>\n",
              "      <th>max_comments</th>\n",
              "      <th>max_views</th>\n",
              "      <th>followers</th>\n",
              "      <th>following</th>\n",
              "      <th>days_in_hashtag_top_section</th>\n",
              "    </tr>\n",
              "  </thead>\n",
              "  <tbody>\n",
              "    <tr>\n",
              "      <th>0</th>\n",
              "      <td>https://www.instagram.com/p/B-y2oOeDpj2/</td>\n",
              "      <td>{https://finesse-instagram-post-images.s3-us-w...</td>\n",
              "      <td>1019</td>\n",
              "      <td>38</td>\n",
              "      <td>NaN</td>\n",
              "      <td>8423</td>\n",
              "      <td>697</td>\n",
              "      <td>0</td>\n",
              "    </tr>\n",
              "    <tr>\n",
              "      <th>1</th>\n",
              "      <td>https://www.instagram.com/p/B_B4e5qDtOU/</td>\n",
              "      <td>{https://finesse-instagram-post-images.s3-us-w...</td>\n",
              "      <td>1039</td>\n",
              "      <td>12</td>\n",
              "      <td>NaN</td>\n",
              "      <td>8423</td>\n",
              "      <td>697</td>\n",
              "      <td>0</td>\n",
              "    </tr>\n",
              "    <tr>\n",
              "      <th>2</th>\n",
              "      <td>https://www.instagram.com/p/B-3-Skoj2ub/</td>\n",
              "      <td>{https://finesse-instagram-post-images.s3-us-w...</td>\n",
              "      <td>764</td>\n",
              "      <td>35</td>\n",
              "      <td>NaN</td>\n",
              "      <td>8423</td>\n",
              "      <td>697</td>\n",
              "      <td>0</td>\n",
              "    </tr>\n",
              "    <tr>\n",
              "      <th>3</th>\n",
              "      <td>https://www.instagram.com/p/B_UhfCuDnJU/</td>\n",
              "      <td>{https://finesse-instagram-post-images.s3-us-w...</td>\n",
              "      <td>779</td>\n",
              "      <td>56</td>\n",
              "      <td>NaN</td>\n",
              "      <td>8423</td>\n",
              "      <td>697</td>\n",
              "      <td>0</td>\n",
              "    </tr>\n",
              "    <tr>\n",
              "      <th>4</th>\n",
              "      <td>https://www.instagram.com/p/B-6isIeD-0-/</td>\n",
              "      <td>{https://finesse-instagram-post-images.s3-us-w...</td>\n",
              "      <td>733</td>\n",
              "      <td>26</td>\n",
              "      <td>NaN</td>\n",
              "      <td>8423</td>\n",
              "      <td>697</td>\n",
              "      <td>0</td>\n",
              "    </tr>\n",
              "  </tbody>\n",
              "</table>\n",
              "</div>"
            ],
            "text/plain": [
              "                                   post_url  ... days_in_hashtag_top_section\n",
              "0  https://www.instagram.com/p/B-y2oOeDpj2/  ...                           0\n",
              "1  https://www.instagram.com/p/B_B4e5qDtOU/  ...                           0\n",
              "2  https://www.instagram.com/p/B-3-Skoj2ub/  ...                           0\n",
              "3  https://www.instagram.com/p/B_UhfCuDnJU/  ...                           0\n",
              "4  https://www.instagram.com/p/B-6isIeD-0-/  ...                           0\n",
              "\n",
              "[5 rows x 8 columns]"
            ]
          },
          "metadata": {
            "tags": []
          },
          "execution_count": 14
        }
      ]
    },
    {
      "cell_type": "markdown",
      "metadata": {
        "id": "cX9sOQBR7zWi",
        "colab_type": "text"
      },
      "source": [
        "**Growth Rate**"
      ]
    },
    {
      "cell_type": "markdown",
      "metadata": {
        "id": "T3jJEau2NS-r",
        "colab_type": "text"
      },
      "source": [
        "Another important feature to consider while calculating a post's popularity metric is the **growth rate**. This feature boosts posts that maintained a high level of user engagement (likes, comments, views) even after several days of posting."
      ]
    },
    {
      "cell_type": "code",
      "metadata": {
        "id": "Frctnh1JKUKf",
        "colab_type": "code",
        "colab": {
          "base_uri": "https://localhost:8080/",
          "height": 204
        },
        "outputId": "c5f83f80-73a6-4eb0-bc3a-f4c3d21285f8"
      },
      "source": [
        "#dataset copy of metrics to calculate growth\n",
        "growth_df = raw_post_metrics.copy()\n",
        "growth_df['num_views'] = growth_df['num_views'].fillna(0)\n",
        "growth_df.head()\n",
        "\n"
      ],
      "execution_count": 15,
      "outputs": [
        {
          "output_type": "execute_result",
          "data": {
            "text/html": [
              "<div>\n",
              "<style scoped>\n",
              "    .dataframe tbody tr th:only-of-type {\n",
              "        vertical-align: middle;\n",
              "    }\n",
              "\n",
              "    .dataframe tbody tr th {\n",
              "        vertical-align: top;\n",
              "    }\n",
              "\n",
              "    .dataframe thead th {\n",
              "        text-align: right;\n",
              "    }\n",
              "</style>\n",
              "<table border=\"1\" class=\"dataframe\">\n",
              "  <thead>\n",
              "    <tr style=\"text-align: right;\">\n",
              "      <th></th>\n",
              "      <th>post_url</th>\n",
              "      <th>num_likes</th>\n",
              "      <th>num_comments</th>\n",
              "      <th>num_views</th>\n",
              "      <th>date_time_collected</th>\n",
              "    </tr>\n",
              "  </thead>\n",
              "  <tbody>\n",
              "    <tr>\n",
              "      <th>0</th>\n",
              "      <td>https://www.instagram.com/p/B_PNBlGDTYQ/</td>\n",
              "      <td>647</td>\n",
              "      <td>15</td>\n",
              "      <td>0.0</td>\n",
              "      <td>2020-04-21 21:00:41</td>\n",
              "    </tr>\n",
              "    <tr>\n",
              "      <th>1</th>\n",
              "      <td>https://www.instagram.com/p/B-jWhHKjDsa/</td>\n",
              "      <td>925</td>\n",
              "      <td>105</td>\n",
              "      <td>0.0</td>\n",
              "      <td>2020-04-21 21:11:39</td>\n",
              "    </tr>\n",
              "    <tr>\n",
              "      <th>2</th>\n",
              "      <td>https://www.instagram.com/p/B-eNiazDOXp/</td>\n",
              "      <td>987</td>\n",
              "      <td>73</td>\n",
              "      <td>0.0</td>\n",
              "      <td>2020-04-21 21:11:42</td>\n",
              "    </tr>\n",
              "    <tr>\n",
              "      <th>3</th>\n",
              "      <td>https://www.instagram.com/p/B-oswDhDUB4/</td>\n",
              "      <td>960</td>\n",
              "      <td>73</td>\n",
              "      <td>0.0</td>\n",
              "      <td>2020-04-21 21:11:47</td>\n",
              "    </tr>\n",
              "    <tr>\n",
              "      <th>4</th>\n",
              "      <td>https://www.instagram.com/p/B-rM41AD62p/</td>\n",
              "      <td>715</td>\n",
              "      <td>67</td>\n",
              "      <td>0.0</td>\n",
              "      <td>2020-04-21 21:11:49</td>\n",
              "    </tr>\n",
              "  </tbody>\n",
              "</table>\n",
              "</div>"
            ],
            "text/plain": [
              "                                   post_url  ...  date_time_collected\n",
              "0  https://www.instagram.com/p/B_PNBlGDTYQ/  ...  2020-04-21 21:00:41\n",
              "1  https://www.instagram.com/p/B-jWhHKjDsa/  ...  2020-04-21 21:11:39\n",
              "2  https://www.instagram.com/p/B-eNiazDOXp/  ...  2020-04-21 21:11:42\n",
              "3  https://www.instagram.com/p/B-oswDhDUB4/  ...  2020-04-21 21:11:47\n",
              "4  https://www.instagram.com/p/B-rM41AD62p/  ...  2020-04-21 21:11:49\n",
              "\n",
              "[5 rows x 5 columns]"
            ]
          },
          "metadata": {
            "tags": []
          },
          "execution_count": 15
        }
      ]
    },
    {
      "cell_type": "markdown",
      "metadata": {
        "id": "lMnxJ0t-hhVC",
        "colab_type": "text"
      },
      "source": [
        "The growth rate was based on the percent increase of user engagements per day.\n",
        "\n",
        "The formula used to calculate the **growth rate**:\n",
        " \n",
        " $ \\frac{(100 * \\frac{engagements_{final} - engagements_{initial}}{ engagements_{initial}})}{days} + 1\n",
        " $\n",
        "\n",
        "The following code calculates the growth rate for each post.\n",
        " \n",
        "**Some Problems with Data:**\n",
        "- Some posts didn't have data for multiple days. Their growth rate was simply calculated as 1.\n",
        "- Some instances where a post was deleted/data was corrupted and the final number of likes ended up as zero. To counter this issue, if such an instance was seen, the likes on the second last day before data corruption were considered.\n",
        "- Some posts had zero engagements, leading to infinity values. Issue was rectified by adding a smoothing parameter of 1.\n"
      ]
    },
    {
      "cell_type": "code",
      "metadata": {
        "id": "wci2--f7Eaff",
        "colab_type": "code",
        "colab": {}
      },
      "source": [
        "#cell takes ~2 minutes to run\n",
        "\n",
        "#group dataframe by post\n",
        "x = growth_df.groupby('post_url')\n",
        "\n",
        "#intialize arrays with post and growth rates\n",
        "post_urls = []\n",
        "growth_rates = []\n",
        "\n",
        "#loop through each post\n",
        "for name,group in x:\n",
        "  df = pd.DataFrame(group)\n",
        "\n",
        "  #convert the date from a string to datatime format\n",
        "  df['date_time_collected'] = df['date_time_collected'].astype('datetime64[ns]')\n",
        "\n",
        "  #calculate engagements by summing likes, comments and views plus a smoothing parameter\n",
        "  df['num_engagements'] = df['num_likes'] + df['num_comments'] + df['num_views'] + 1\n",
        "\n",
        "  #calcuate percent change of engagements overall\n",
        "  percent_change = (df.iloc[-1]['num_engagements'] - df.iloc[0]['num_engagements']) / df.iloc[0]['num_engagements'] * 100\n",
        "  \n",
        "  #rectify issue of data corruption where post had zero likes on last day\n",
        "\n",
        "  #in case of corruption use second last day of post\n",
        "  if percent_change < 0:\n",
        "    percent_change = (df.iloc[-2]['num_engagements'] - df.iloc[0]['num_engagements']) / df.iloc[0]['num_engagements'] * 100\n",
        "    days_change = (df.iloc[-2]['date_time_collected'] - df.iloc[0]['date_time_collected']).days\n",
        "  \n",
        "  #otherwise use last day of post\n",
        "  else:\n",
        "    percent_change = (df.iloc[-1]['num_engagements'] - df.iloc[0]['num_engagements']) / df.iloc[0]['num_engagements'] * 100\n",
        "    days_change = (df.iloc[-1]['date_time_collected'] - df.iloc[0]['date_time_collected']).days\n",
        "  \n",
        "  #rectify issue of posts not having data on multiple days\n",
        "  if days_change == 0:\n",
        "    growth_rate = 1\n",
        "\n",
        "  else:\n",
        "    #calculate growth rate based on formula\n",
        "    growth_rate = (percent_change / days_change) + 1\n",
        "\n",
        "  #append posts and growth rates to array\n",
        "  post_url = df.iloc[0]['post_url']\n",
        "  growth_rates.append(growth_rate)\n",
        "  post_urls.append(post_url)\n",
        "\n",
        "#create dictionary and dataframe of posts and growth rate  \n",
        "growth_dict = {'post_url':post_urls, 'growth_rate':growth_rates}\n",
        "final_growth = pd.DataFrame(growth_dict)"
      ],
      "execution_count": 16,
      "outputs": []
    },
    {
      "cell_type": "code",
      "metadata": {
        "id": "4n3zKdDyXN4R",
        "colab_type": "code",
        "colab": {
          "base_uri": "https://localhost:8080/",
          "height": 204
        },
        "outputId": "a292cd73-f5a8-4731-a13c-223e5d6d94cd"
      },
      "source": [
        "#dataframe showing posts and calculated growth rate\n",
        "final_growth.head()"
      ],
      "execution_count": 17,
      "outputs": [
        {
          "output_type": "execute_result",
          "data": {
            "text/html": [
              "<div>\n",
              "<style scoped>\n",
              "    .dataframe tbody tr th:only-of-type {\n",
              "        vertical-align: middle;\n",
              "    }\n",
              "\n",
              "    .dataframe tbody tr th {\n",
              "        vertical-align: top;\n",
              "    }\n",
              "\n",
              "    .dataframe thead th {\n",
              "        text-align: right;\n",
              "    }\n",
              "</style>\n",
              "<table border=\"1\" class=\"dataframe\">\n",
              "  <thead>\n",
              "    <tr style=\"text-align: right;\">\n",
              "      <th></th>\n",
              "      <th>post_url</th>\n",
              "      <th>growth_rate</th>\n",
              "    </tr>\n",
              "  </thead>\n",
              "  <tbody>\n",
              "    <tr>\n",
              "      <th>0</th>\n",
              "      <td>https://www.instagram.com/p/B---FmPHkqj/</td>\n",
              "      <td>1.080794</td>\n",
              "    </tr>\n",
              "    <tr>\n",
              "      <th>1</th>\n",
              "      <td>https://www.instagram.com/p/B---T2DAOs8/</td>\n",
              "      <td>1.264117</td>\n",
              "    </tr>\n",
              "    <tr>\n",
              "      <th>2</th>\n",
              "      <td>https://www.instagram.com/p/B---Ylep4Jr/</td>\n",
              "      <td>1.104016</td>\n",
              "    </tr>\n",
              "    <tr>\n",
              "      <th>3</th>\n",
              "      <td>https://www.instagram.com/p/B--0UE5nB6t/</td>\n",
              "      <td>1.100355</td>\n",
              "    </tr>\n",
              "    <tr>\n",
              "      <th>4</th>\n",
              "      <td>https://www.instagram.com/p/B--0oAshPus/</td>\n",
              "      <td>1.400391</td>\n",
              "    </tr>\n",
              "  </tbody>\n",
              "</table>\n",
              "</div>"
            ],
            "text/plain": [
              "                                   post_url  growth_rate\n",
              "0  https://www.instagram.com/p/B---FmPHkqj/     1.080794\n",
              "1  https://www.instagram.com/p/B---T2DAOs8/     1.264117\n",
              "2  https://www.instagram.com/p/B---Ylep4Jr/     1.104016\n",
              "3  https://www.instagram.com/p/B--0UE5nB6t/     1.100355\n",
              "4  https://www.instagram.com/p/B--0oAshPus/     1.400391"
            ]
          },
          "metadata": {
            "tags": []
          },
          "execution_count": 17
        }
      ]
    },
    {
      "cell_type": "code",
      "metadata": {
        "id": "YOxb6ejEAibj",
        "colab_type": "code",
        "colab": {
          "base_uri": "https://localhost:8080/",
          "height": 564
        },
        "outputId": "7b8b8e78-bc4d-4176-80f0-2f3d705d8c81"
      },
      "source": [
        "#merge original dataset with growth rate\n",
        "post_popularity_final = post_popularity_with_hashtag.merge(final_growth, on='post_url')\n",
        "post_popularity_final.head()"
      ],
      "execution_count": 18,
      "outputs": [
        {
          "output_type": "execute_result",
          "data": {
            "text/html": [
              "<div>\n",
              "<style scoped>\n",
              "    .dataframe tbody tr th:only-of-type {\n",
              "        vertical-align: middle;\n",
              "    }\n",
              "\n",
              "    .dataframe tbody tr th {\n",
              "        vertical-align: top;\n",
              "    }\n",
              "\n",
              "    .dataframe thead th {\n",
              "        text-align: right;\n",
              "    }\n",
              "</style>\n",
              "<table border=\"1\" class=\"dataframe\">\n",
              "  <thead>\n",
              "    <tr style=\"text-align: right;\">\n",
              "      <th></th>\n",
              "      <th>post_url</th>\n",
              "      <th>img_urls</th>\n",
              "      <th>max_likes</th>\n",
              "      <th>max_comments</th>\n",
              "      <th>max_views</th>\n",
              "      <th>followers</th>\n",
              "      <th>following</th>\n",
              "      <th>days_in_hashtag_top_section</th>\n",
              "      <th>growth_rate</th>\n",
              "    </tr>\n",
              "  </thead>\n",
              "  <tbody>\n",
              "    <tr>\n",
              "      <th>0</th>\n",
              "      <td>https://www.instagram.com/p/B-y2oOeDpj2/</td>\n",
              "      <td>{https://finesse-instagram-post-images.s3-us-w...</td>\n",
              "      <td>1019</td>\n",
              "      <td>38</td>\n",
              "      <td>NaN</td>\n",
              "      <td>8423</td>\n",
              "      <td>697</td>\n",
              "      <td>0</td>\n",
              "      <td>1.052531</td>\n",
              "    </tr>\n",
              "    <tr>\n",
              "      <th>1</th>\n",
              "      <td>https://www.instagram.com/p/B_B4e5qDtOU/</td>\n",
              "      <td>{https://finesse-instagram-post-images.s3-us-w...</td>\n",
              "      <td>1039</td>\n",
              "      <td>12</td>\n",
              "      <td>NaN</td>\n",
              "      <td>8423</td>\n",
              "      <td>697</td>\n",
              "      <td>0</td>\n",
              "      <td>1.286432</td>\n",
              "    </tr>\n",
              "    <tr>\n",
              "      <th>2</th>\n",
              "      <td>https://www.instagram.com/p/B-3-Skoj2ub/</td>\n",
              "      <td>{https://finesse-instagram-post-images.s3-us-w...</td>\n",
              "      <td>764</td>\n",
              "      <td>35</td>\n",
              "      <td>NaN</td>\n",
              "      <td>8423</td>\n",
              "      <td>697</td>\n",
              "      <td>0</td>\n",
              "      <td>1.095541</td>\n",
              "    </tr>\n",
              "    <tr>\n",
              "      <th>3</th>\n",
              "      <td>https://www.instagram.com/p/B_UhfCuDnJU/</td>\n",
              "      <td>{https://finesse-instagram-post-images.s3-us-w...</td>\n",
              "      <td>779</td>\n",
              "      <td>56</td>\n",
              "      <td>NaN</td>\n",
              "      <td>8423</td>\n",
              "      <td>697</td>\n",
              "      <td>0</td>\n",
              "      <td>2.911397</td>\n",
              "    </tr>\n",
              "    <tr>\n",
              "      <th>4</th>\n",
              "      <td>https://www.instagram.com/p/B-6isIeD-0-/</td>\n",
              "      <td>{https://finesse-instagram-post-images.s3-us-w...</td>\n",
              "      <td>733</td>\n",
              "      <td>26</td>\n",
              "      <td>NaN</td>\n",
              "      <td>8423</td>\n",
              "      <td>697</td>\n",
              "      <td>0</td>\n",
              "      <td>1.114401</td>\n",
              "    </tr>\n",
              "  </tbody>\n",
              "</table>\n",
              "</div>"
            ],
            "text/plain": [
              "                                   post_url  ... growth_rate\n",
              "0  https://www.instagram.com/p/B-y2oOeDpj2/  ...    1.052531\n",
              "1  https://www.instagram.com/p/B_B4e5qDtOU/  ...    1.286432\n",
              "2  https://www.instagram.com/p/B-3-Skoj2ub/  ...    1.095541\n",
              "3  https://www.instagram.com/p/B_UhfCuDnJU/  ...    2.911397\n",
              "4  https://www.instagram.com/p/B-6isIeD-0-/  ...    1.114401\n",
              "\n",
              "[5 rows x 9 columns]"
            ]
          },
          "metadata": {
            "tags": []
          },
          "execution_count": 18
        }
      ]
    },
    {
      "cell_type": "markdown",
      "metadata": {
        "id": "iRJVd8OS799b",
        "colab_type": "text"
      },
      "source": [
        "**LTF (Likes to Followers Ratio)**"
      ]
    },
    {
      "cell_type": "markdown",
      "metadata": {
        "id": "D5HYgnq9YGhT",
        "colab_type": "text"
      },
      "source": [
        "Uptil now, two features to calculate post popularity have been considered:\n",
        "- Days in Hashtag Top Section\n",
        "- Growth Rate\n",
        "\n",
        "A very important metric associated with social media trends that isn't utilized so far is the maximum likes and comments for a post.\n",
        "\n",
        "Simply using the maximum likes as the third feature wouldn't be feasible as it is biased towards people with a large number of followers. Celebrities tend to get higher likes on ordinary photos which are not generally an indicator of popularity.\n",
        "\n",
        "Based on personal intuition and research by members of Princeton University (http://cjqian.github.io/docs/instagram_paper.pdf) - A reasonable popularity metric based on likes that corrects for the bias towards celebs is the **LTF ratio**.\n",
        "\n",
        "**LTF** is calculated as the number of engagements of a post divided by the number of followers of the user who posted.\n",
        "\n",
        "This will be the third feature in the calculation of the popularity metric.\n",
        "\n"
      ]
    },
    {
      "cell_type": "code",
      "metadata": {
        "id": "56SavWEfKXKJ",
        "colab_type": "code",
        "colab": {
          "base_uri": "https://localhost:8080/",
          "height": 564
        },
        "outputId": "b7bcdc25-86a1-4ef9-b41c-1e3fbb8005b2"
      },
      "source": [
        "#final dataset that contains the 3 features used for calculating the popularity metric\n",
        "post_popularity_final['LTF'] = (post_popularity_final['max_likes'] + post_popularity_final['max_comments']) / post_popularity_final['followers']\n",
        "post_popularity_final.head()"
      ],
      "execution_count": 19,
      "outputs": [
        {
          "output_type": "execute_result",
          "data": {
            "text/html": [
              "<div>\n",
              "<style scoped>\n",
              "    .dataframe tbody tr th:only-of-type {\n",
              "        vertical-align: middle;\n",
              "    }\n",
              "\n",
              "    .dataframe tbody tr th {\n",
              "        vertical-align: top;\n",
              "    }\n",
              "\n",
              "    .dataframe thead th {\n",
              "        text-align: right;\n",
              "    }\n",
              "</style>\n",
              "<table border=\"1\" class=\"dataframe\">\n",
              "  <thead>\n",
              "    <tr style=\"text-align: right;\">\n",
              "      <th></th>\n",
              "      <th>post_url</th>\n",
              "      <th>img_urls</th>\n",
              "      <th>max_likes</th>\n",
              "      <th>max_comments</th>\n",
              "      <th>max_views</th>\n",
              "      <th>followers</th>\n",
              "      <th>following</th>\n",
              "      <th>days_in_hashtag_top_section</th>\n",
              "      <th>growth_rate</th>\n",
              "      <th>LTF</th>\n",
              "    </tr>\n",
              "  </thead>\n",
              "  <tbody>\n",
              "    <tr>\n",
              "      <th>0</th>\n",
              "      <td>https://www.instagram.com/p/B-y2oOeDpj2/</td>\n",
              "      <td>{https://finesse-instagram-post-images.s3-us-w...</td>\n",
              "      <td>1019</td>\n",
              "      <td>38</td>\n",
              "      <td>NaN</td>\n",
              "      <td>8423</td>\n",
              "      <td>697</td>\n",
              "      <td>0</td>\n",
              "      <td>1.052531</td>\n",
              "      <td>0.125490</td>\n",
              "    </tr>\n",
              "    <tr>\n",
              "      <th>1</th>\n",
              "      <td>https://www.instagram.com/p/B_B4e5qDtOU/</td>\n",
              "      <td>{https://finesse-instagram-post-images.s3-us-w...</td>\n",
              "      <td>1039</td>\n",
              "      <td>12</td>\n",
              "      <td>NaN</td>\n",
              "      <td>8423</td>\n",
              "      <td>697</td>\n",
              "      <td>0</td>\n",
              "      <td>1.286432</td>\n",
              "      <td>0.124777</td>\n",
              "    </tr>\n",
              "    <tr>\n",
              "      <th>2</th>\n",
              "      <td>https://www.instagram.com/p/B-3-Skoj2ub/</td>\n",
              "      <td>{https://finesse-instagram-post-images.s3-us-w...</td>\n",
              "      <td>764</td>\n",
              "      <td>35</td>\n",
              "      <td>NaN</td>\n",
              "      <td>8423</td>\n",
              "      <td>697</td>\n",
              "      <td>0</td>\n",
              "      <td>1.095541</td>\n",
              "      <td>0.094859</td>\n",
              "    </tr>\n",
              "    <tr>\n",
              "      <th>3</th>\n",
              "      <td>https://www.instagram.com/p/B_UhfCuDnJU/</td>\n",
              "      <td>{https://finesse-instagram-post-images.s3-us-w...</td>\n",
              "      <td>779</td>\n",
              "      <td>56</td>\n",
              "      <td>NaN</td>\n",
              "      <td>8423</td>\n",
              "      <td>697</td>\n",
              "      <td>0</td>\n",
              "      <td>2.911397</td>\n",
              "      <td>0.099133</td>\n",
              "    </tr>\n",
              "    <tr>\n",
              "      <th>4</th>\n",
              "      <td>https://www.instagram.com/p/B-6isIeD-0-/</td>\n",
              "      <td>{https://finesse-instagram-post-images.s3-us-w...</td>\n",
              "      <td>733</td>\n",
              "      <td>26</td>\n",
              "      <td>NaN</td>\n",
              "      <td>8423</td>\n",
              "      <td>697</td>\n",
              "      <td>0</td>\n",
              "      <td>1.114401</td>\n",
              "      <td>0.090110</td>\n",
              "    </tr>\n",
              "  </tbody>\n",
              "</table>\n",
              "</div>"
            ],
            "text/plain": [
              "                                   post_url  ...       LTF\n",
              "0  https://www.instagram.com/p/B-y2oOeDpj2/  ...  0.125490\n",
              "1  https://www.instagram.com/p/B_B4e5qDtOU/  ...  0.124777\n",
              "2  https://www.instagram.com/p/B-3-Skoj2ub/  ...  0.094859\n",
              "3  https://www.instagram.com/p/B_UhfCuDnJU/  ...  0.099133\n",
              "4  https://www.instagram.com/p/B-6isIeD-0-/  ...  0.090110\n",
              "\n",
              "[5 rows x 10 columns]"
            ]
          },
          "metadata": {
            "tags": []
          },
          "execution_count": 19
        }
      ]
    },
    {
      "cell_type": "markdown",
      "metadata": {
        "id": "FGiJcqFzd3ka",
        "colab_type": "text"
      },
      "source": [
        "The three features have a wide variety of ranges. It is important to scale them before calculating the popularity metric."
      ]
    },
    {
      "cell_type": "code",
      "metadata": {
        "id": "5-XsYc3BBTVq",
        "colab_type": "code",
        "colab": {
          "base_uri": "https://localhost:8080/",
          "height": 564
        },
        "outputId": "3682be9b-1727-45c4-bd41-6a63f5f17fbf"
      },
      "source": [
        "#create new dataframe that contains scales the 3 calculated features\n",
        "post_popularity_scaled = post_popularity_final.copy()\n",
        "\n",
        "mms = MinMaxScaler()\n",
        "post_popularity_scaled[['days_in_hashtag_top_section', 'growth_rate',\t'LTF']] = mms.fit_transform(post_popularity_scaled[['days_in_hashtag_top_section', 'growth_rate',\t'LTF']])\n",
        "post_popularity_scaled.head()\n"
      ],
      "execution_count": 20,
      "outputs": [
        {
          "output_type": "execute_result",
          "data": {
            "text/html": [
              "<div>\n",
              "<style scoped>\n",
              "    .dataframe tbody tr th:only-of-type {\n",
              "        vertical-align: middle;\n",
              "    }\n",
              "\n",
              "    .dataframe tbody tr th {\n",
              "        vertical-align: top;\n",
              "    }\n",
              "\n",
              "    .dataframe thead th {\n",
              "        text-align: right;\n",
              "    }\n",
              "</style>\n",
              "<table border=\"1\" class=\"dataframe\">\n",
              "  <thead>\n",
              "    <tr style=\"text-align: right;\">\n",
              "      <th></th>\n",
              "      <th>post_url</th>\n",
              "      <th>img_urls</th>\n",
              "      <th>max_likes</th>\n",
              "      <th>max_comments</th>\n",
              "      <th>max_views</th>\n",
              "      <th>followers</th>\n",
              "      <th>following</th>\n",
              "      <th>days_in_hashtag_top_section</th>\n",
              "      <th>growth_rate</th>\n",
              "      <th>LTF</th>\n",
              "    </tr>\n",
              "  </thead>\n",
              "  <tbody>\n",
              "    <tr>\n",
              "      <th>0</th>\n",
              "      <td>https://www.instagram.com/p/B-y2oOeDpj2/</td>\n",
              "      <td>{https://finesse-instagram-post-images.s3-us-w...</td>\n",
              "      <td>1019</td>\n",
              "      <td>38</td>\n",
              "      <td>NaN</td>\n",
              "      <td>8423</td>\n",
              "      <td>697</td>\n",
              "      <td>0.0</td>\n",
              "      <td>0.003014</td>\n",
              "      <td>0.064953</td>\n",
              "    </tr>\n",
              "    <tr>\n",
              "      <th>1</th>\n",
              "      <td>https://www.instagram.com/p/B_B4e5qDtOU/</td>\n",
              "      <td>{https://finesse-instagram-post-images.s3-us-w...</td>\n",
              "      <td>1039</td>\n",
              "      <td>12</td>\n",
              "      <td>NaN</td>\n",
              "      <td>8423</td>\n",
              "      <td>697</td>\n",
              "      <td>0.0</td>\n",
              "      <td>0.004880</td>\n",
              "      <td>0.064584</td>\n",
              "    </tr>\n",
              "    <tr>\n",
              "      <th>2</th>\n",
              "      <td>https://www.instagram.com/p/B-3-Skoj2ub/</td>\n",
              "      <td>{https://finesse-instagram-post-images.s3-us-w...</td>\n",
              "      <td>764</td>\n",
              "      <td>35</td>\n",
              "      <td>NaN</td>\n",
              "      <td>8423</td>\n",
              "      <td>697</td>\n",
              "      <td>0.0</td>\n",
              "      <td>0.003357</td>\n",
              "      <td>0.049099</td>\n",
              "    </tr>\n",
              "    <tr>\n",
              "      <th>3</th>\n",
              "      <td>https://www.instagram.com/p/B_UhfCuDnJU/</td>\n",
              "      <td>{https://finesse-instagram-post-images.s3-us-w...</td>\n",
              "      <td>779</td>\n",
              "      <td>56</td>\n",
              "      <td>NaN</td>\n",
              "      <td>8423</td>\n",
              "      <td>697</td>\n",
              "      <td>0.0</td>\n",
              "      <td>0.017846</td>\n",
              "      <td>0.051311</td>\n",
              "    </tr>\n",
              "    <tr>\n",
              "      <th>4</th>\n",
              "      <td>https://www.instagram.com/p/B-6isIeD-0-/</td>\n",
              "      <td>{https://finesse-instagram-post-images.s3-us-w...</td>\n",
              "      <td>733</td>\n",
              "      <td>26</td>\n",
              "      <td>NaN</td>\n",
              "      <td>8423</td>\n",
              "      <td>697</td>\n",
              "      <td>0.0</td>\n",
              "      <td>0.003508</td>\n",
              "      <td>0.046641</td>\n",
              "    </tr>\n",
              "  </tbody>\n",
              "</table>\n",
              "</div>"
            ],
            "text/plain": [
              "                                   post_url  ...       LTF\n",
              "0  https://www.instagram.com/p/B-y2oOeDpj2/  ...  0.064953\n",
              "1  https://www.instagram.com/p/B_B4e5qDtOU/  ...  0.064584\n",
              "2  https://www.instagram.com/p/B-3-Skoj2ub/  ...  0.049099\n",
              "3  https://www.instagram.com/p/B_UhfCuDnJU/  ...  0.051311\n",
              "4  https://www.instagram.com/p/B-6isIeD-0-/  ...  0.046641\n",
              "\n",
              "[5 rows x 10 columns]"
            ]
          },
          "metadata": {
            "tags": []
          },
          "execution_count": 20
        }
      ]
    },
    {
      "cell_type": "markdown",
      "metadata": {
        "id": "bmoCxG3lfp07",
        "colab_type": "text"
      },
      "source": [
        "For calculating the popularity, a weighted sum of the three calculated features is used.\n",
        "\n",
        "Following are the weights assigned and the intuition behind them:\n",
        "\n",
        "- Days in Hashtag Top Section : **40%**\n",
        "  - This feature is based on Instagram's own algorithm of popularity so it makes sense to weight it heavily. Moreover, since a majority of the data had a zero value for this feature, it was important to make sure that the few highly popular posts that appeared on the top section were rewarded heavily. Based on the 40% value, a post that appeared even for a single day on the top section would receive a reward of ~1 (quite significant after scaling)\n",
        "\n",
        "- Growth Rate : **10%**\n",
        "  - This feature was given a lighter weight because it was biased towards posts that had data on multiple days. Moreover, in the grand scheme of things, the overall likes and comments that a post achieves is a more significant indicator of popularity than the growth of engagements per day.\n",
        "\n",
        "- LTF: **50%**\n",
        "  - This feature was the most important for measuring popularity based on historical trends and research, and was thus weighted significantly."
      ]
    },
    {
      "cell_type": "code",
      "metadata": {
        "id": "kSFiM6u1icP6",
        "colab_type": "code",
        "colab": {
          "base_uri": "https://localhost:8080/",
          "height": 564
        },
        "outputId": "8d7c8846-00d5-44bd-972e-71db2ec1d3e1"
      },
      "source": [
        "#calculate popularity of each post based on formula and 3 features scaled by 100 for readability\n",
        "post_popularity_scaled['popularity'] = 0.4*post_popularity_scaled['days_in_hashtag_top_section'] + 0.1*post_popularity_scaled['growth_rate'] + 0.5*post_popularity_scaled['LTF']\n",
        "post_popularity_scaled['popularity'] = post_popularity_scaled['popularity'] * 100\n",
        "post_popularity_scaled.head()"
      ],
      "execution_count": 21,
      "outputs": [
        {
          "output_type": "execute_result",
          "data": {
            "text/html": [
              "<div>\n",
              "<style scoped>\n",
              "    .dataframe tbody tr th:only-of-type {\n",
              "        vertical-align: middle;\n",
              "    }\n",
              "\n",
              "    .dataframe tbody tr th {\n",
              "        vertical-align: top;\n",
              "    }\n",
              "\n",
              "    .dataframe thead th {\n",
              "        text-align: right;\n",
              "    }\n",
              "</style>\n",
              "<table border=\"1\" class=\"dataframe\">\n",
              "  <thead>\n",
              "    <tr style=\"text-align: right;\">\n",
              "      <th></th>\n",
              "      <th>post_url</th>\n",
              "      <th>img_urls</th>\n",
              "      <th>max_likes</th>\n",
              "      <th>max_comments</th>\n",
              "      <th>max_views</th>\n",
              "      <th>followers</th>\n",
              "      <th>following</th>\n",
              "      <th>days_in_hashtag_top_section</th>\n",
              "      <th>growth_rate</th>\n",
              "      <th>LTF</th>\n",
              "      <th>popularity</th>\n",
              "    </tr>\n",
              "  </thead>\n",
              "  <tbody>\n",
              "    <tr>\n",
              "      <th>0</th>\n",
              "      <td>https://www.instagram.com/p/B-y2oOeDpj2/</td>\n",
              "      <td>{https://finesse-instagram-post-images.s3-us-w...</td>\n",
              "      <td>1019</td>\n",
              "      <td>38</td>\n",
              "      <td>NaN</td>\n",
              "      <td>8423</td>\n",
              "      <td>697</td>\n",
              "      <td>0.0</td>\n",
              "      <td>0.003014</td>\n",
              "      <td>0.064953</td>\n",
              "      <td>3.277775</td>\n",
              "    </tr>\n",
              "    <tr>\n",
              "      <th>1</th>\n",
              "      <td>https://www.instagram.com/p/B_B4e5qDtOU/</td>\n",
              "      <td>{https://finesse-instagram-post-images.s3-us-w...</td>\n",
              "      <td>1039</td>\n",
              "      <td>12</td>\n",
              "      <td>NaN</td>\n",
              "      <td>8423</td>\n",
              "      <td>697</td>\n",
              "      <td>0.0</td>\n",
              "      <td>0.004880</td>\n",
              "      <td>0.064584</td>\n",
              "      <td>3.278003</td>\n",
              "    </tr>\n",
              "    <tr>\n",
              "      <th>2</th>\n",
              "      <td>https://www.instagram.com/p/B-3-Skoj2ub/</td>\n",
              "      <td>{https://finesse-instagram-post-images.s3-us-w...</td>\n",
              "      <td>764</td>\n",
              "      <td>35</td>\n",
              "      <td>NaN</td>\n",
              "      <td>8423</td>\n",
              "      <td>697</td>\n",
              "      <td>0.0</td>\n",
              "      <td>0.003357</td>\n",
              "      <td>0.049099</td>\n",
              "      <td>2.488501</td>\n",
              "    </tr>\n",
              "    <tr>\n",
              "      <th>3</th>\n",
              "      <td>https://www.instagram.com/p/B_UhfCuDnJU/</td>\n",
              "      <td>{https://finesse-instagram-post-images.s3-us-w...</td>\n",
              "      <td>779</td>\n",
              "      <td>56</td>\n",
              "      <td>NaN</td>\n",
              "      <td>8423</td>\n",
              "      <td>697</td>\n",
              "      <td>0.0</td>\n",
              "      <td>0.017846</td>\n",
              "      <td>0.051311</td>\n",
              "      <td>2.744003</td>\n",
              "    </tr>\n",
              "    <tr>\n",
              "      <th>4</th>\n",
              "      <td>https://www.instagram.com/p/B-6isIeD-0-/</td>\n",
              "      <td>{https://finesse-instagram-post-images.s3-us-w...</td>\n",
              "      <td>733</td>\n",
              "      <td>26</td>\n",
              "      <td>NaN</td>\n",
              "      <td>8423</td>\n",
              "      <td>697</td>\n",
              "      <td>0.0</td>\n",
              "      <td>0.003508</td>\n",
              "      <td>0.046641</td>\n",
              "      <td>2.367106</td>\n",
              "    </tr>\n",
              "  </tbody>\n",
              "</table>\n",
              "</div>"
            ],
            "text/plain": [
              "                                   post_url  ... popularity\n",
              "0  https://www.instagram.com/p/B-y2oOeDpj2/  ...   3.277775\n",
              "1  https://www.instagram.com/p/B_B4e5qDtOU/  ...   3.278003\n",
              "2  https://www.instagram.com/p/B-3-Skoj2ub/  ...   2.488501\n",
              "3  https://www.instagram.com/p/B_UhfCuDnJU/  ...   2.744003\n",
              "4  https://www.instagram.com/p/B-6isIeD-0-/  ...   2.367106\n",
              "\n",
              "[5 rows x 11 columns]"
            ]
          },
          "metadata": {
            "tags": []
          },
          "execution_count": 21
        }
      ]
    },
    {
      "cell_type": "markdown",
      "metadata": {
        "id": "XqxnpmBplbEC",
        "colab_type": "text"
      },
      "source": [
        "The popularity metric ranges from 0 to 100. Because of the skewness of the original data, the popularity is also heavily skewed, with a majority of the values less than 10."
      ]
    },
    {
      "cell_type": "code",
      "metadata": {
        "id": "yOwQZv09l6RR",
        "colab_type": "code",
        "colab": {
          "base_uri": "https://localhost:8080/",
          "height": 279
        },
        "outputId": "08f2e440-1880-40e3-b568-5d2839f9c39f"
      },
      "source": [
        "# histogram showing distribution of popularity\n",
        "post_popularity_scaled['popularity'].hist(bins = 100)\n",
        "plt.xlabel('Popularity')\n",
        "plt.ylabel(\"Count\")\n",
        "plt.show()"
      ],
      "execution_count": 22,
      "outputs": [
        {
          "output_type": "display_data",
          "data": {
            "image/png": "[encoded data removed]",
            "text/plain": [
              "<Figure size 432x288 with 1 Axes>"
            ]
          },
          "metadata": {
            "tags": [],
            "needs_background": "light"
          }
        }
      ]
    },
    {
      "cell_type": "markdown",
      "metadata": {
        "id": "dPwQFAH5mVnJ",
        "colab_type": "text"
      },
      "source": [
        "Based on this popularity metric, we can establish the top trending fashion posts across Instagram in April 2020.\n",
        "\n",
        "A lot of these posts were picked up by Instagram's algorithm for days in hashtag top section, while some that did not appear in the section but had a good LTF and growth rate also show up here.\n",
        "\n"
      ]
    },
    {
      "cell_type": "code",
      "metadata": {
        "id": "3D0kAQ0Lmv_i",
        "colab_type": "code",
        "colab": {
          "base_uri": "https://localhost:8080/",
          "height": 1000
        },
        "outputId": "66d03f31-f4e7-45ae-b7f9-ff291123ba3b"
      },
      "source": [
        "# create new dataframe with the top 20 popular posts based on calculated popularity\n",
        "top_20_popularity = post_popularity_scaled.sort_values('popularity', ascending=False)[:20]\n",
        "top_20_popularity"
      ],
      "execution_count": 23,
      "outputs": [
        {
          "output_type": "execute_result",
          "data": {
            "text/html": [
              "<div>\n",
              "<style scoped>\n",
              "    .dataframe tbody tr th:only-of-type {\n",
              "        vertical-align: middle;\n",
              "    }\n",
              "\n",
              "    .dataframe tbody tr th {\n",
              "        vertical-align: top;\n",
              "    }\n",
              "\n",
              "    .dataframe thead th {\n",
              "        text-align: right;\n",
              "    }\n",
              "</style>\n",
              "<table border=\"1\" class=\"dataframe\">\n",
              "  <thead>\n",
              "    <tr style=\"text-align: right;\">\n",
              "      <th></th>\n",
              "      <th>post_url</th>\n",
              "      <th>img_urls</th>\n",
              "      <th>max_likes</th>\n",
              "      <th>max_comments</th>\n",
              "      <th>max_views</th>\n",
              "      <th>followers</th>\n",
              "      <th>following</th>\n",
              "      <th>days_in_hashtag_top_section</th>\n",
              "      <th>growth_rate</th>\n",
              "      <th>LTF</th>\n",
              "      <th>popularity</th>\n",
              "    </tr>\n",
              "  </thead>\n",
              "  <tbody>\n",
              "    <tr>\n",
              "      <th>5658</th>\n",
              "      <td>https://www.instagram.com/p/B-cuVYrJncn/</td>\n",
              "      <td>{https://finesse-instagram-post-images.s3-us-w...</td>\n",
              "      <td>2283</td>\n",
              "      <td>151</td>\n",
              "      <td>NaN</td>\n",
              "      <td>4487</td>\n",
              "      <td>896</td>\n",
              "      <td>1.000000</td>\n",
              "      <td>0.004542</td>\n",
              "      <td>0.280772</td>\n",
              "      <td>54.084006</td>\n",
              "    </tr>\n",
              "    <tr>\n",
              "      <th>11341</th>\n",
              "      <td>https://www.instagram.com/p/B-2LsSkpeoZ/</td>\n",
              "      <td>{https://finesse-instagram-post-images.s3-us-w...</td>\n",
              "      <td>43679</td>\n",
              "      <td>371</td>\n",
              "      <td>NaN</td>\n",
              "      <td>22800</td>\n",
              "      <td>767</td>\n",
              "      <td>0.000000</td>\n",
              "      <td>0.003373</td>\n",
              "      <td>1.000000</td>\n",
              "      <td>50.033731</td>\n",
              "    </tr>\n",
              "    <tr>\n",
              "      <th>3406</th>\n",
              "      <td>https://www.instagram.com/p/B_NkieupTpm/</td>\n",
              "      <td>{https://finesse-instagram-post-images.s3-us-w...</td>\n",
              "      <td>3083</td>\n",
              "      <td>73</td>\n",
              "      <td>NaN</td>\n",
              "      <td>1649</td>\n",
              "      <td>1342</td>\n",
              "      <td>0.000000</td>\n",
              "      <td>0.004853</td>\n",
              "      <td>0.990616</td>\n",
              "      <td>49.579319</td>\n",
              "    </tr>\n",
              "    <tr>\n",
              "      <th>5256</th>\n",
              "      <td>https://www.instagram.com/p/B_HxniXh4lX/</td>\n",
              "      <td>{https://finesse-instagram-post-images.s3-us-w...</td>\n",
              "      <td>968</td>\n",
              "      <td>49</td>\n",
              "      <td>NaN</td>\n",
              "      <td>1556</td>\n",
              "      <td>962</td>\n",
              "      <td>0.777778</td>\n",
              "      <td>0.003785</td>\n",
              "      <td>0.338299</td>\n",
              "      <td>48.063893</td>\n",
              "    </tr>\n",
              "    <tr>\n",
              "      <th>5866</th>\n",
              "      <td>https://www.instagram.com/p/B_OLFzNgQRJ/</td>\n",
              "      <td>{https://finesse-instagram-post-images.s3-us-w...</td>\n",
              "      <td>10910</td>\n",
              "      <td>146</td>\n",
              "      <td>NaN</td>\n",
              "      <td>7235</td>\n",
              "      <td>463</td>\n",
              "      <td>0.111111</td>\n",
              "      <td>0.101420</td>\n",
              "      <td>0.790949</td>\n",
              "      <td>45.006085</td>\n",
              "    </tr>\n",
              "    <tr>\n",
              "      <th>11259</th>\n",
              "      <td>https://www.instagram.com/p/B_CHJzXDeNF/</td>\n",
              "      <td>{https://finesse-instagram-post-images.s3-us-w...</td>\n",
              "      <td>1109</td>\n",
              "      <td>50</td>\n",
              "      <td>NaN</td>\n",
              "      <td>4038</td>\n",
              "      <td>1109</td>\n",
              "      <td>0.916667</td>\n",
              "      <td>0.007006</td>\n",
              "      <td>0.148561</td>\n",
              "      <td>44.164798</td>\n",
              "    </tr>\n",
              "    <tr>\n",
              "      <th>9320</th>\n",
              "      <td>https://www.instagram.com/p/B-9fgRUqRo5/</td>\n",
              "      <td>{https://finesse-instagram-post-images.s3-us-w...</td>\n",
              "      <td>20478</td>\n",
              "      <td>31</td>\n",
              "      <td>NaN</td>\n",
              "      <td>48600</td>\n",
              "      <td>5</td>\n",
              "      <td>0.777778</td>\n",
              "      <td>0.004560</td>\n",
              "      <td>0.218422</td>\n",
              "      <td>42.077828</td>\n",
              "    </tr>\n",
              "    <tr>\n",
              "      <th>5885</th>\n",
              "      <td>https://www.instagram.com/p/B_ZMPh6l1qm/</td>\n",
              "      <td>{https://finesse-instagram-post-images.s3-us-w...</td>\n",
              "      <td>1161</td>\n",
              "      <td>104</td>\n",
              "      <td>NaN</td>\n",
              "      <td>980</td>\n",
              "      <td>901</td>\n",
              "      <td>0.111111</td>\n",
              "      <td>0.413569</td>\n",
              "      <td>0.668118</td>\n",
              "      <td>41.986055</td>\n",
              "    </tr>\n",
              "    <tr>\n",
              "      <th>9317</th>\n",
              "      <td>https://www.instagram.com/p/B-4GhjnK7Uk/</td>\n",
              "      <td>{https://finesse-instagram-post-images.s3-us-w...</td>\n",
              "      <td>25242</td>\n",
              "      <td>31</td>\n",
              "      <td>NaN</td>\n",
              "      <td>48600</td>\n",
              "      <td>5</td>\n",
              "      <td>0.583333</td>\n",
              "      <td>0.006046</td>\n",
              "      <td>0.269159</td>\n",
              "      <td>36.851756</td>\n",
              "    </tr>\n",
              "    <tr>\n",
              "      <th>1522</th>\n",
              "      <td>https://www.instagram.com/p/B_FovwcH1Vq/</td>\n",
              "      <td>{https://finesse-instagram-post-images.s3-us-w...</td>\n",
              "      <td>3151</td>\n",
              "      <td>40</td>\n",
              "      <td>NaN</td>\n",
              "      <td>7693</td>\n",
              "      <td>69</td>\n",
              "      <td>0.638889</td>\n",
              "      <td>0.024816</td>\n",
              "      <td>0.214694</td>\n",
              "      <td>36.538420</td>\n",
              "    </tr>\n",
              "    <tr>\n",
              "      <th>11325</th>\n",
              "      <td>https://www.instagram.com/p/B-cTuHYDF_1/</td>\n",
              "      <td>{https://finesse-instagram-post-images.s3-us-w...</td>\n",
              "      <td>1032</td>\n",
              "      <td>21</td>\n",
              "      <td>NaN</td>\n",
              "      <td>753</td>\n",
              "      <td>201</td>\n",
              "      <td>0.000000</td>\n",
              "      <td>0.004774</td>\n",
              "      <td>0.723806</td>\n",
              "      <td>36.238056</td>\n",
              "    </tr>\n",
              "    <tr>\n",
              "      <th>7479</th>\n",
              "      <td>https://www.instagram.com/p/B-13sySlIax/</td>\n",
              "      <td>{https://finesse-instagram-post-images.s3-us-w...</td>\n",
              "      <td>9903</td>\n",
              "      <td>293</td>\n",
              "      <td>139724.0</td>\n",
              "      <td>7322</td>\n",
              "      <td>263</td>\n",
              "      <td>0.000000</td>\n",
              "      <td>0.005977</td>\n",
              "      <td>0.720757</td>\n",
              "      <td>36.097637</td>\n",
              "    </tr>\n",
              "    <tr>\n",
              "      <th>4048</th>\n",
              "      <td>https://www.instagram.com/p/B-2Uhffhixi/</td>\n",
              "      <td>{https://finesse-instagram-post-images.s3-us-w...</td>\n",
              "      <td>48858</td>\n",
              "      <td>251</td>\n",
              "      <td>NaN</td>\n",
              "      <td>36400</td>\n",
              "      <td>821</td>\n",
              "      <td>0.000000</td>\n",
              "      <td>0.010794</td>\n",
              "      <td>0.698311</td>\n",
              "      <td>35.023469</td>\n",
              "    </tr>\n",
              "    <tr>\n",
              "      <th>5617</th>\n",
              "      <td>https://www.instagram.com/p/B_Zzk-NIXT6/</td>\n",
              "      <td>{https://finesse-instagram-post-images.s3-us-w...</td>\n",
              "      <td>3308</td>\n",
              "      <td>110</td>\n",
              "      <td>NaN</td>\n",
              "      <td>3159</td>\n",
              "      <td>323</td>\n",
              "      <td>0.111111</td>\n",
              "      <td>0.247209</td>\n",
              "      <td>0.560030</td>\n",
              "      <td>34.918038</td>\n",
              "    </tr>\n",
              "    <tr>\n",
              "      <th>4758</th>\n",
              "      <td>https://www.instagram.com/p/B-xB_snKjld/</td>\n",
              "      <td>{https://finesse-instagram-post-images.s3-us-w...</td>\n",
              "      <td>1758</td>\n",
              "      <td>14</td>\n",
              "      <td>NaN</td>\n",
              "      <td>25000</td>\n",
              "      <td>26</td>\n",
              "      <td>0.805556</td>\n",
              "      <td>0.002864</td>\n",
              "      <td>0.036687</td>\n",
              "      <td>34.085214</td>\n",
              "    </tr>\n",
              "    <tr>\n",
              "      <th>4753</th>\n",
              "      <td>https://www.instagram.com/p/B-_07jGpiWT/</td>\n",
              "      <td>{https://finesse-instagram-post-images.s3-us-w...</td>\n",
              "      <td>506</td>\n",
              "      <td>4</td>\n",
              "      <td>NaN</td>\n",
              "      <td>25000</td>\n",
              "      <td>26</td>\n",
              "      <td>0.805556</td>\n",
              "      <td>0.003245</td>\n",
              "      <td>0.010559</td>\n",
              "      <td>32.782618</td>\n",
              "    </tr>\n",
              "    <tr>\n",
              "      <th>11343</th>\n",
              "      <td>https://www.instagram.com/p/B-m1PFjpHrm/</td>\n",
              "      <td>{https://finesse-instagram-post-images.s3-us-w...</td>\n",
              "      <td>28341</td>\n",
              "      <td>246</td>\n",
              "      <td>NaN</td>\n",
              "      <td>22800</td>\n",
              "      <td>767</td>\n",
              "      <td>0.000000</td>\n",
              "      <td>0.002802</td>\n",
              "      <td>0.648967</td>\n",
              "      <td>32.476375</td>\n",
              "    </tr>\n",
              "    <tr>\n",
              "      <th>7120</th>\n",
              "      <td>https://www.instagram.com/p/B-nC6dHnHL5/</td>\n",
              "      <td>{https://finesse-instagram-post-images.s3-us-w...</td>\n",
              "      <td>44249</td>\n",
              "      <td>420</td>\n",
              "      <td>NaN</td>\n",
              "      <td>37400</td>\n",
              "      <td>631</td>\n",
              "      <td>0.000000</td>\n",
              "      <td>0.003320</td>\n",
              "      <td>0.618192</td>\n",
              "      <td>30.942811</td>\n",
              "    </tr>\n",
              "    <tr>\n",
              "      <th>750</th>\n",
              "      <td>https://www.instagram.com/p/B_IpGN0hM1T/</td>\n",
              "      <td>{https://finesse-instagram-post-images.s3-us-w...</td>\n",
              "      <td>9476</td>\n",
              "      <td>605</td>\n",
              "      <td>NaN</td>\n",
              "      <td>8730</td>\n",
              "      <td>875</td>\n",
              "      <td>0.000000</td>\n",
              "      <td>0.061051</td>\n",
              "      <td>0.597693</td>\n",
              "      <td>30.495165</td>\n",
              "    </tr>\n",
              "    <tr>\n",
              "      <th>1939</th>\n",
              "      <td>https://www.instagram.com/p/B_Vb9NCJ1nh/</td>\n",
              "      <td>{https://finesse-instagram-post-images.s3-us-w...</td>\n",
              "      <td>907</td>\n",
              "      <td>12</td>\n",
              "      <td>NaN</td>\n",
              "      <td>27900</td>\n",
              "      <td>975</td>\n",
              "      <td>0.694444</td>\n",
              "      <td>0.049048</td>\n",
              "      <td>0.017049</td>\n",
              "      <td>29.120713</td>\n",
              "    </tr>\n",
              "  </tbody>\n",
              "</table>\n",
              "</div>"
            ],
            "text/plain": [
              "                                       post_url  ... popularity\n",
              "5658   https://www.instagram.com/p/B-cuVYrJncn/  ...  54.084006\n",
              "11341  https://www.instagram.com/p/B-2LsSkpeoZ/  ...  50.033731\n",
              "3406   https://www.instagram.com/p/B_NkieupTpm/  ...  49.579319\n",
              "5256   https://www.instagram.com/p/B_HxniXh4lX/  ...  48.063893\n",
              "5866   https://www.instagram.com/p/B_OLFzNgQRJ/  ...  45.006085\n",
              "11259  https://www.instagram.com/p/B_CHJzXDeNF/  ...  44.164798\n",
              "9320   https://www.instagram.com/p/B-9fgRUqRo5/  ...  42.077828\n",
              "5885   https://www.instagram.com/p/B_ZMPh6l1qm/  ...  41.986055\n",
              "9317   https://www.instagram.com/p/B-4GhjnK7Uk/  ...  36.851756\n",
              "1522   https://www.instagram.com/p/B_FovwcH1Vq/  ...  36.538420\n",
              "11325  https://www.instagram.com/p/B-cTuHYDF_1/  ...  36.238056\n",
              "7479   https://www.instagram.com/p/B-13sySlIax/  ...  36.097637\n",
              "4048   https://www.instagram.com/p/B-2Uhffhixi/  ...  35.023469\n",
              "5617   https://www.instagram.com/p/B_Zzk-NIXT6/  ...  34.918038\n",
              "4758   https://www.instagram.com/p/B-xB_snKjld/  ...  34.085214\n",
              "4753   https://www.instagram.com/p/B-_07jGpiWT/  ...  32.782618\n",
              "11343  https://www.instagram.com/p/B-m1PFjpHrm/  ...  32.476375\n",
              "7120   https://www.instagram.com/p/B-nC6dHnHL5/  ...  30.942811\n",
              "750    https://www.instagram.com/p/B_IpGN0hM1T/  ...  30.495165\n",
              "1939   https://www.instagram.com/p/B_Vb9NCJ1nh/  ...  29.120713\n",
              "\n",
              "[20 rows x 11 columns]"
            ]
          },
          "metadata": {
            "tags": []
          },
          "execution_count": 23
        }
      ]
    },
    {
      "cell_type": "markdown",
      "metadata": {
        "id": "F9DyUrU-q3vT",
        "colab_type": "text"
      },
      "source": [
        "Here are the Top 3 trending fashion posts based on the calculated popularity metric:"
      ]
    },
    {
      "cell_type": "code",
      "metadata": {
        "id": "Zh4WsmcKoCU_",
        "colab_type": "code",
        "colab": {
          "base_uri": "https://localhost:8080/",
          "height": 321
        },
        "outputId": "896632b1-77e6-4487-9343-a2373050b6e6"
      },
      "source": [
        "Image(url=top_20_popularity.iloc[0]['img_urls'][1:-1], width = 300, height = 300)\n",
        "\n"
      ],
      "execution_count": 24,
      "outputs": [
        {
          "output_type": "execute_result",
          "data": {
            "text/html": [
              "<img src=\"https://finesse-instagram-post-images.s3-us-west-1.amazonaws.com/xxlexx007_B-cuVYrJncn_0.jpg\" width=\"300\" height=\"300\"/>"
            ],
            "text/plain": [
              "<IPython.core.display.Image object>"
            ]
          },
          "metadata": {
            "tags": []
          },
          "execution_count": 24
        }
      ]
    },
    {
      "cell_type": "code",
      "metadata": {
        "id": "HVWrSY3urHC9",
        "colab_type": "code",
        "colab": {
          "base_uri": "https://localhost:8080/",
          "height": 321
        },
        "outputId": "91af10f3-24e8-4e86-90c1-f494ed34543e"
      },
      "source": [
        "Image(url = top_20_popularity.iloc[1]['img_urls'][1:-1].split(',')[0], width = 300, height = 300)\n"
      ],
      "execution_count": 25,
      "outputs": [
        {
          "output_type": "execute_result",
          "data": {
            "text/html": [
              "<img src=\"https://finesse-instagram-post-images.s3-us-west-1.amazonaws.com/wear_future_B-2LsSkpeoZ_0.jpg\" width=\"300\" height=\"300\"/>"
            ],
            "text/plain": [
              "<IPython.core.display.Image object>"
            ]
          },
          "metadata": {
            "tags": []
          },
          "execution_count": 25
        }
      ]
    },
    {
      "cell_type": "code",
      "metadata": {
        "id": "rwO3KAgBrGyx",
        "colab_type": "code",
        "colab": {
          "base_uri": "https://localhost:8080/",
          "height": 321
        },
        "outputId": "f40dd806-fc42-4967-e1e0-0b2162ec1c54"
      },
      "source": [
        "Image(url=top_20_popularity.iloc[2]['img_urls'][1:-1], width = 300, height = 300)"
      ],
      "execution_count": 26,
      "outputs": [
        {
          "output_type": "execute_result",
          "data": {
            "text/html": [
              "<img src=\"https://finesse-instagram-post-images.s3-us-west-1.amazonaws.com/menswibe_B_NkieupTpm_0.jpg\" width=\"300\" height=\"300\"/>"
            ],
            "text/plain": [
              "<IPython.core.display.Image object>"
            ]
          },
          "metadata": {
            "tags": []
          },
          "execution_count": 26
        }
      ]
    },
    {
      "cell_type": "markdown",
      "metadata": {
        "id": "mEx2m3VcsKkG",
        "colab_type": "text"
      },
      "source": [
        "Now that a metric for calculating the popularity of posts has been established, the next aim is to use this metric as a label for training a DNN on the comments. Such a model could have potential use in predicting popular fashion trends through NLP."
      ]
    },
    {
      "cell_type": "markdown",
      "metadata": {
        "id": "Fi1SSanztRxU",
        "colab_type": "text"
      },
      "source": [
        "To train the model on comments, a threshold on the popularity value must be established to classify very popular posts.\n"
      ]
    },
    {
      "cell_type": "code",
      "metadata": {
        "id": "ptrt77waFN2E",
        "colab_type": "code",
        "colab": {
          "base_uri": "https://localhost:8080/",
          "height": 296
        },
        "outputId": "22b0b7b2-3a20-4b55-dd8f-5bd9809310b8"
      },
      "source": [
        "# graph showing percentile of popularity to determine threshold\n",
        "post_popularity_scaled['popularity'].quantile(np.linspace(0.01, 1, num=100)).plot()\n",
        "plt.plot((0.95,0.95),(0,post_popularity_scaled['popularity'].quantile(0.95)))\n",
        "plt.plot((0,0.95),(post_popularity_scaled['popularity'].quantile(0.95),post_popularity_scaled['popularity'].quantile(0.95)))\n",
        "plt.xlabel(\"Percentile\")\n",
        "plt.ylabel(\"Popularity\")\n",
        "plt.show()\n",
        "print(\"The 95th percentile is: \" + str(round(post_popularity_scaled['popularity'].quantile(0.95), 4)))"
      ],
      "execution_count": 28,
      "outputs": [
        {
          "output_type": "display_data",
          "data": {
            "image/png": "[encoded data removed]",
            "text/plain": [
              "<Figure size 432x288 with 1 Axes>"
            ]
          },
          "metadata": {
            "tags": [],
            "needs_background": "light"
          }
        },
        {
          "output_type": "stream",
          "text": [
            "The 95th percentile is: 7.6049\n"
          ],
          "name": "stdout"
        }
      ]
    },
    {
      "cell_type": "markdown",
      "metadata": {
        "id": "rY0X-lALuUi_",
        "colab_type": "text"
      },
      "source": [
        "From the graph, an insane rise is seen in the popularity after ~7.5. This corresponds to the 95th percentile. \n",
        "\n",
        "This statistic reveals how unbalanced our dataset actually is. Out of more than ~11000 posts, only about 5% (550) are extremely popular with a metric above 7.5.\n",
        "\n",
        "\n",
        "\n",
        "\n",
        "\n",
        "\n"
      ]
    },
    {
      "cell_type": "markdown",
      "metadata": {
        "id": "vbpyYjmaGP6q",
        "colab_type": "text"
      },
      "source": [
        "## Data Pre-Processing "
      ]
    },
    {
      "cell_type": "markdown",
      "metadata": {
        "id": "U6SzbeqLGaZh",
        "colab_type": "text"
      },
      "source": [
        "This stage will involve data pre-processing and cleaning to get our dataset ready for training a DNN."
      ]
    },
    {
      "cell_type": "markdown",
      "metadata": {
        "id": "w3b-ZWKeHhIn",
        "colab_type": "text"
      },
      "source": [
        "**Popularity Label**"
      ]
    },
    {
      "cell_type": "markdown",
      "metadata": {
        "id": "4TeLU5jcGmJK",
        "colab_type": "text"
      },
      "source": [
        "The Popularity metric calculated in the last part will be used as the label for the DNN.\n",
        "\n",
        "At the end, we discovered that only ~5% of the posts are extremely popular. \n",
        "\n",
        "These extremely popular posts had a popularity value greater than 7.6049. A binary classification will now be done where a post with a popularity greater than the threshold value of ~7.6049 will be classified as popular. \n",
        "\n"
      ]
    },
    {
      "cell_type": "code",
      "metadata": {
        "id": "RbgzJCoeFul5",
        "colab_type": "code",
        "colab": {
          "base_uri": "https://localhost:8080/",
          "height": 204
        },
        "outputId": "ce135ca3-0b28-49fc-9852-d43ae8966310"
      },
      "source": [
        "# set a threshold to classify very popular posts\n",
        "threshold = post_popularity_scaled['popularity'].quantile(0.95)\n",
        "\n",
        "# create a binary column for popularity\n",
        "post_popularity_scaled['is_popular'] = np.where(post_popularity_scaled['popularity']>=threshold, 1, 0)\n",
        "\n",
        "# create new dataframe with post and binary popularity\n",
        "is_post_popular = post_popularity_scaled[['post_url','is_popular']]\n",
        "is_post_popular.head()"
      ],
      "execution_count": 29,
      "outputs": [
        {
          "output_type": "execute_result",
          "data": {
            "text/html": [
              "<div>\n",
              "<style scoped>\n",
              "    .dataframe tbody tr th:only-of-type {\n",
              "        vertical-align: middle;\n",
              "    }\n",
              "\n",
              "    .dataframe tbody tr th {\n",
              "        vertical-align: top;\n",
              "    }\n",
              "\n",
              "    .dataframe thead th {\n",
              "        text-align: right;\n",
              "    }\n",
              "</style>\n",
              "<table border=\"1\" class=\"dataframe\">\n",
              "  <thead>\n",
              "    <tr style=\"text-align: right;\">\n",
              "      <th></th>\n",
              "      <th>post_url</th>\n",
              "      <th>is_popular</th>\n",
              "    </tr>\n",
              "  </thead>\n",
              "  <tbody>\n",
              "    <tr>\n",
              "      <th>0</th>\n",
              "      <td>https://www.instagram.com/p/B-y2oOeDpj2/</td>\n",
              "      <td>0</td>\n",
              "    </tr>\n",
              "    <tr>\n",
              "      <th>1</th>\n",
              "      <td>https://www.instagram.com/p/B_B4e5qDtOU/</td>\n",
              "      <td>0</td>\n",
              "    </tr>\n",
              "    <tr>\n",
              "      <th>2</th>\n",
              "      <td>https://www.instagram.com/p/B-3-Skoj2ub/</td>\n",
              "      <td>0</td>\n",
              "    </tr>\n",
              "    <tr>\n",
              "      <th>3</th>\n",
              "      <td>https://www.instagram.com/p/B_UhfCuDnJU/</td>\n",
              "      <td>0</td>\n",
              "    </tr>\n",
              "    <tr>\n",
              "      <th>4</th>\n",
              "      <td>https://www.instagram.com/p/B-6isIeD-0-/</td>\n",
              "      <td>0</td>\n",
              "    </tr>\n",
              "  </tbody>\n",
              "</table>\n",
              "</div>"
            ],
            "text/plain": [
              "                                   post_url  is_popular\n",
              "0  https://www.instagram.com/p/B-y2oOeDpj2/           0\n",
              "1  https://www.instagram.com/p/B_B4e5qDtOU/           0\n",
              "2  https://www.instagram.com/p/B-3-Skoj2ub/           0\n",
              "3  https://www.instagram.com/p/B_UhfCuDnJU/           0\n",
              "4  https://www.instagram.com/p/B-6isIeD-0-/           0"
            ]
          },
          "metadata": {
            "tags": []
          },
          "execution_count": 29
        }
      ]
    },
    {
      "cell_type": "code",
      "metadata": {
        "id": "sqH1baD5OS26",
        "colab_type": "code",
        "colab": {
          "base_uri": "https://localhost:8080/",
          "height": 34
        },
        "outputId": "af9130b5-3c36-4abe-8afa-e24a2e9b6de1"
      },
      "source": [
        "# counting number of popular posts\n",
        "sum(is_post_popular['is_popular'])"
      ],
      "execution_count": 30,
      "outputs": [
        {
          "output_type": "execute_result",
          "data": {
            "text/plain": [
              "582"
            ]
          },
          "metadata": {
            "tags": []
          },
          "execution_count": 30
        }
      ]
    },
    {
      "cell_type": "markdown",
      "metadata": {
        "id": "zSdZlIAmORSL",
        "colab_type": "text"
      },
      "source": [
        "It is seen that only 582 out of the 11000 posts on Instagram were extremely popular.\n",
        "\n",
        "Training a model with such a huge class imbalance would lead to poor performance.\n",
        "\n",
        "**This class imbalance will be corrected later by oversampling the minority class and undersampling the majority class.**\n"
      ]
    },
    {
      "cell_type": "markdown",
      "metadata": {
        "id": "H25UPvyyI9Iw",
        "colab_type": "text"
      },
      "source": [
        "**Comments**"
      ]
    },
    {
      "cell_type": "markdown",
      "metadata": {
        "id": "vaSD4UaUJBk_",
        "colab_type": "text"
      },
      "source": [
        "The comments need to be cleaned in order to generate word embeddings to pass into the DNN.\n",
        "\n",
        "The model will attempt to classify extremely popular posts based on the embeddings generated by comments. "
      ]
    },
    {
      "cell_type": "code",
      "metadata": {
        "id": "svPh_DmfwdEk",
        "colab_type": "code",
        "colab": {
          "base_uri": "https://localhost:8080/",
          "height": 436
        },
        "outputId": "45100f28-95ea-4c5b-fdec-45d8b9ea6d45"
      },
      "source": [
        "#create dataframe with only posts and comments\n",
        "only_comments = post_metrics_and_comments[['post_url','concatenated_comments']]\n",
        "only_comments"
      ],
      "execution_count": 31,
      "outputs": [
        {
          "output_type": "execute_result",
          "data": {
            "text/html": [
              "<div>\n",
              "<style scoped>\n",
              "    .dataframe tbody tr th:only-of-type {\n",
              "        vertical-align: middle;\n",
              "    }\n",
              "\n",
              "    .dataframe tbody tr th {\n",
              "        vertical-align: top;\n",
              "    }\n",
              "\n",
              "    .dataframe thead th {\n",
              "        text-align: right;\n",
              "    }\n",
              "</style>\n",
              "<table border=\"1\" class=\"dataframe\">\n",
              "  <thead>\n",
              "    <tr style=\"text-align: right;\">\n",
              "      <th></th>\n",
              "      <th>post_url</th>\n",
              "      <th>concatenated_comments</th>\n",
              "    </tr>\n",
              "  </thead>\n",
              "  <tbody>\n",
              "    <tr>\n",
              "      <th>0</th>\n",
              "      <td>https://www.instagram.com/p/B-y2oOeDpj2/</td>\n",
              "      <td>@_o9.02 가입하자 연재야😘|아고 ㅠㅠㅠㅠ 힘드실텐데 아자아자 화이팅입니다 !!...</td>\n",
              "    </tr>\n",
              "    <tr>\n",
              "      <th>1</th>\n",
              "      <td>https://www.instagram.com/p/B_B4e5qDtOU/</td>\n",
              "      <td>@nam_bbs 정말요?🙌|옷입는 스타일 너무너무 멋있으세요 ☺️|코디 너무 좋아요...</td>\n",
              "    </tr>\n",
              "    <tr>\n",
              "      <th>2</th>\n",
              "      <td>https://www.instagram.com/p/B-3-Skoj2ub/</td>\n",
              "      <td>❤️|헐 선생님....멋져요....♥️|워료일 쪼아~ 최고로 쪼아~|Very sum...</td>\n",
              "    </tr>\n",
              "    <tr>\n",
              "      <th>3</th>\n",
              "      <td>https://www.instagram.com/p/B_UhfCuDnJU/</td>\n",
              "      <td>ㅋㅋㅋㅋㅋㅋㅋㅋㅋㅋ배불러졌다는게 너무 웃겨욬ㅋㅋㅋㅋㅋ|깔끔한 쓰앵님🤭👍🏿|😍😍😍😍❤...</td>\n",
              "    </tr>\n",
              "    <tr>\n",
              "      <th>4</th>\n",
              "      <td>https://www.instagram.com/p/B-6isIeD-0-/</td>\n",
              "      <td>극복 나이스👍🏻|@mndp404 시간은 결국 흐르니 ㅠㅠ|내일도 화요팅~!|@yeo...</td>\n",
              "    </tr>\n",
              "    <tr>\n",
              "      <th>...</th>\n",
              "      <td>...</td>\n",
              "      <td>...</td>\n",
              "    </tr>\n",
              "    <tr>\n",
              "      <th>11632</th>\n",
              "      <td>https://www.instagram.com/p/B_AlZo0AWJX/</td>\n",
              "      <td>🔥|❤️⚡️❤️⚡️|❤️⚡️❤️⚡️|❤️⚡️❤️⚡️|❤️⚡️❤️⚡️|❤️⚡️❤️⚡️...</td>\n",
              "    </tr>\n",
              "    <tr>\n",
              "      <th>11633</th>\n",
              "      <td>https://www.instagram.com/p/B_F0LX6laRg/</td>\n",
              "      <td>❤️|💙💙💚|YES!!! One of my last shoots before the...</td>\n",
              "    </tr>\n",
              "    <tr>\n",
              "      <th>11634</th>\n",
              "      <td>https://www.instagram.com/p/B-xmPs4F_br/</td>\n",
              "      <td>💐💐💐💐👏🏼🔝🔝🔝🎉|Verified ✨✨|Wow😍|😍😍😍😍|beautiful bab...</td>\n",
              "    </tr>\n",
              "    <tr>\n",
              "      <th>11635</th>\n",
              "      <td>https://www.instagram.com/p/B-7FRqKpzy3/</td>\n",
              "      <td>Happy birthday 😍 reply to dena Bali ho nhi 🙌|👶...</td>\n",
              "    </tr>\n",
              "    <tr>\n",
              "      <th>11636</th>\n",
              "      <td>https://www.instagram.com/p/B_P3BVAjyaj/</td>\n",
              "      <td>😍😍😍😍😍|😍😍😍😍😍|Bodyyy🙌|Bodyyy🙌|Ur so beautiful 💘🔥...</td>\n",
              "    </tr>\n",
              "  </tbody>\n",
              "</table>\n",
              "<p>11637 rows × 2 columns</p>\n",
              "</div>"
            ],
            "text/plain": [
              "                                       post_url                              concatenated_comments\n",
              "0      https://www.instagram.com/p/B-y2oOeDpj2/  @_o9.02 가입하자 연재야😘|아고 ㅠㅠㅠㅠ 힘드실텐데 아자아자 화이팅입니다 !!...\n",
              "1      https://www.instagram.com/p/B_B4e5qDtOU/  @nam_bbs 정말요?🙌|옷입는 스타일 너무너무 멋있으세요 ☺️|코디 너무 좋아요...\n",
              "2      https://www.instagram.com/p/B-3-Skoj2ub/  ❤️|헐 선생님....멋져요....♥️|워료일 쪼아~ 최고로 쪼아~|Very sum...\n",
              "3      https://www.instagram.com/p/B_UhfCuDnJU/  ㅋㅋㅋㅋㅋㅋㅋㅋㅋㅋ배불러졌다는게 너무 웃겨욬ㅋㅋㅋㅋㅋ|깔끔한 쓰앵님🤭👍🏿|😍😍😍😍❤...\n",
              "4      https://www.instagram.com/p/B-6isIeD-0-/  극복 나이스👍🏻|@mndp404 시간은 결국 흐르니 ㅠㅠ|내일도 화요팅~!|@yeo...\n",
              "...                                         ...                                                ...\n",
              "11632  https://www.instagram.com/p/B_AlZo0AWJX/  🔥|❤️⚡️❤️⚡️|❤️⚡️❤️⚡️|❤️⚡️❤️⚡️|❤️⚡️❤️⚡️|❤️⚡️❤️⚡️...\n",
              "11633  https://www.instagram.com/p/B_F0LX6laRg/  ❤️|💙💙💚|YES!!! One of my last shoots before the...\n",
              "11634  https://www.instagram.com/p/B-xmPs4F_br/  💐💐💐💐👏🏼🔝🔝🔝🎉|Verified ✨✨|Wow😍|😍😍😍😍|beautiful bab...\n",
              "11635  https://www.instagram.com/p/B-7FRqKpzy3/  Happy birthday 😍 reply to dena Bali ho nhi 🙌|👶...\n",
              "11636  https://www.instagram.com/p/B_P3BVAjyaj/  😍😍😍😍😍|😍😍😍😍😍|Bodyyy🙌|Bodyyy🙌|Ur so beautiful 💘🔥...\n",
              "\n",
              "[11637 rows x 2 columns]"
            ]
          },
          "metadata": {
            "tags": []
          },
          "execution_count": 31
        }
      ]
    },
    {
      "cell_type": "markdown",
      "metadata": {
        "id": "8TfE9KXDqP2Z",
        "colab_type": "text"
      },
      "source": [
        "Cleaning of Comments involves the following stages:\n",
        "- Convert emojis to text - emojis are an important indicator of popularity on social media.\n",
        "- Convert text to lowercase\n",
        "- Remove all punctuation\n",
        "- Remove hashtags and mentions"
      ]
    },
    {
      "cell_type": "code",
      "metadata": {
        "id": "lDn27OR5ZbTI",
        "colab_type": "code",
        "colab": {}
      },
      "source": [
        "# Cell takes ~3 minutes to run\n",
        "\n",
        "# Function to convert emoji to text\n",
        "def convert_emojis(text):\n",
        "    for emot in UNICODE_EMO:\n",
        "        text = text.replace(emot, \" \".join(UNICODE_EMO[emot].replace(\",\",\"\").replace(\":\",\" \").split(\" \")))\n",
        "        text = text.replace(\"  \", \" \").strip()\n",
        "    return text\n",
        "\n",
        "# Function to clean text to lower and remove punctuation\n",
        "def clean_text(text):\n",
        "  text =' '.join(re.sub(\"(@[A-Za-z0-9]+)|(#[A-Za-z0-9]+)\", \" \", text).split())\n",
        "  text = ' '.join(re.sub(\"[\\.\\,\\!\\?\\:\\;\\-\\=]\", \" \", text).split())\n",
        "  text = text.lower()\n",
        "  return text\n",
        "\n",
        "# Add cleaned comments to list\n",
        "list_of_comments = []  \n",
        "for c in only_comments[\"concatenated_comments\"]:  \n",
        "  cleaned_comments = clean_text(convert_emojis(c))\n",
        "  list_of_comments.append(cleaned_comments)\n"
      ],
      "execution_count": 32,
      "outputs": []
    },
    {
      "cell_type": "code",
      "metadata": {
        "id": "U2D5L6uZrufy",
        "colab_type": "code",
        "colab": {
          "base_uri": "https://localhost:8080/",
          "height": 221
        },
        "outputId": "9ac429ac-d2fc-465e-dbe3-dc8db327a75b"
      },
      "source": [
        "# create final dataframe with posts, labels and cleaned comments\n",
        "final_df = only_comments.merge(is_post_popular, on='post_url')\n",
        "final_df[\"cleaned_comments\"] = list_of_comments\n",
        "final_df = final_df.drop(['concatenated_comments'], axis=1)\n",
        "final_df.head()"
      ],
      "execution_count": 33,
      "outputs": [
        {
          "output_type": "execute_result",
          "data": {
            "text/html": [
              "<div>\n",
              "<style scoped>\n",
              "    .dataframe tbody tr th:only-of-type {\n",
              "        vertical-align: middle;\n",
              "    }\n",
              "\n",
              "    .dataframe tbody tr th {\n",
              "        vertical-align: top;\n",
              "    }\n",
              "\n",
              "    .dataframe thead th {\n",
              "        text-align: right;\n",
              "    }\n",
              "</style>\n",
              "<table border=\"1\" class=\"dataframe\">\n",
              "  <thead>\n",
              "    <tr style=\"text-align: right;\">\n",
              "      <th></th>\n",
              "      <th>post_url</th>\n",
              "      <th>is_popular</th>\n",
              "      <th>cleaned_comments</th>\n",
              "    </tr>\n",
              "  </thead>\n",
              "  <tbody>\n",
              "    <tr>\n",
              "      <th>0</th>\n",
              "      <td>https://www.instagram.com/p/B-y2oOeDpj2/</td>\n",
              "      <td>0</td>\n",
              "      <td>@_o9 02 가입하자 연재야 face_blowing_a_kiss |아고 ㅠㅠㅠㅠ ...</td>\n",
              "    </tr>\n",
              "    <tr>\n",
              "      <th>1</th>\n",
              "      <td>https://www.instagram.com/p/B_B4e5qDtOU/</td>\n",
              "      <td>0</td>\n",
              "      <td>_bbs 정말요 raising_hands |옷입는 스타일 너무너무 멋있으세요 smi...</td>\n",
              "    </tr>\n",
              "    <tr>\n",
              "      <th>2</th>\n",
              "      <td>https://www.instagram.com/p/B-3-Skoj2ub/</td>\n",
              "      <td>0</td>\n",
              "      <td>red_heart ️|헐 선생님 멋져요 heart_suit ️|워료일 쪼아~ 최고로...</td>\n",
              "    </tr>\n",
              "    <tr>\n",
              "      <th>3</th>\n",
              "      <td>https://www.instagram.com/p/B_UhfCuDnJU/</td>\n",
              "      <td>0</td>\n",
              "      <td>ㅋㅋㅋㅋㅋㅋㅋㅋㅋㅋ배불러졌다는게 너무 웃겨욬ㅋㅋㅋㅋㅋ|깔끔한 쓰앵님🤭 thumbs_...</td>\n",
              "    </tr>\n",
              "    <tr>\n",
              "      <th>4</th>\n",
              "      <td>https://www.instagram.com/p/B-6isIeD-0-/</td>\n",
              "      <td>0</td>\n",
              "      <td>극복 나이스 thumbs_up light_skin_tone | 시간은 결국 흐르니 ...</td>\n",
              "    </tr>\n",
              "  </tbody>\n",
              "</table>\n",
              "</div>"
            ],
            "text/plain": [
              "                                   post_url  ...                                   cleaned_comments\n",
              "0  https://www.instagram.com/p/B-y2oOeDpj2/  ...  @_o9 02 가입하자 연재야 face_blowing_a_kiss |아고 ㅠㅠㅠㅠ ...\n",
              "1  https://www.instagram.com/p/B_B4e5qDtOU/  ...  _bbs 정말요 raising_hands |옷입는 스타일 너무너무 멋있으세요 smi...\n",
              "2  https://www.instagram.com/p/B-3-Skoj2ub/  ...  red_heart ️|헐 선생님 멋져요 heart_suit ️|워료일 쪼아~ 최고로...\n",
              "3  https://www.instagram.com/p/B_UhfCuDnJU/  ...  ㅋㅋㅋㅋㅋㅋㅋㅋㅋㅋ배불러졌다는게 너무 웃겨욬ㅋㅋㅋㅋㅋ|깔끔한 쓰앵님🤭 thumbs_...\n",
              "4  https://www.instagram.com/p/B-6isIeD-0-/  ...  극복 나이스 thumbs_up light_skin_tone | 시간은 결국 흐르니 ...\n",
              "\n",
              "[5 rows x 3 columns]"
            ]
          },
          "metadata": {
            "tags": []
          },
          "execution_count": 33
        }
      ]
    },
    {
      "cell_type": "markdown",
      "metadata": {
        "id": "9oZiI81LpewP",
        "colab_type": "text"
      },
      "source": [
        "**Generate word embeddings from cleaned comments**\n",
        "\n",
        "After cleaning the comments, word embeddings need to be generated in order to pass them into the DNN.\n",
        "\n",
        "Following steps are involved in this process:\n",
        "- Set various parameters for generating embeddings:\n",
        "  - Vocab_size : Number of unique words to consider in embeddings\n",
        "  - Emdedding_dim: Dimension of embeddings to generate\n",
        "  - Max_length: Maximum length of each comment to limit size in embeddings\n",
        "  - Trunc_Type: Type of padding to embeddings - 'post' implies padding at the end \n",
        "  - Oov_tok: Token to represent out of vocabulary words\n",
        "- First tokenize the comments into individual words\n",
        "- Generate sequences from the tokens as embeddings\n",
        "- Pad the emdeddings to ensure they have the same length"
      ]
    },
    {
      "cell_type": "code",
      "metadata": {
        "id": "bHO9n3n3Zhhs",
        "colab_type": "code",
        "colab": {}
      },
      "source": [
        "# set the comments as X (features) and popularity as y (label)\n",
        "X = final_df['cleaned_comments']\n",
        "y = final_df['is_popular']\n",
        "\n",
        "# set parameters for embeddings\n",
        "vocab_size = 50000\n",
        "embedding_dim = 32\n",
        "max_length = 500\n",
        "trunc_type='post'\n",
        "oov_tok = \"<OOV>\"\n",
        "\n",
        "# tokenize comments\n",
        "tokenizer = Tokenizer(num_words = vocab_size, oov_token=oov_tok)\n",
        "tokenizer.fit_on_texts(X)\n",
        "\n",
        "# create word index matching words to numeric representation\n",
        "word_index = tokenizer.word_index\n",
        "\n",
        "# generate sequences as embeddings\n",
        "sequences = tokenizer.texts_to_sequences(X)\n",
        "\n",
        "# pad the sequences\n",
        "padded = pad_sequences(sequences,maxlen=max_length, truncating=trunc_type)\n",
        "\n",
        "\n"
      ],
      "execution_count": 34,
      "outputs": []
    },
    {
      "cell_type": "markdown",
      "metadata": {
        "id": "i5TQ4AAWslXn",
        "colab_type": "text"
      },
      "source": [
        "**Fix Class Imbalance**"
      ]
    },
    {
      "cell_type": "markdown",
      "metadata": {
        "id": "DdJO25mRtD7r",
        "colab_type": "text"
      },
      "source": [
        "As mentioned earlier, there is a huge imbalance of the two classes in our dataset. Only ~5% of the ~11000 posts are classified are popular. With a 5:95 split, any model trained on this dataset would perform poorly as it lacks sufficient information to properly predict the popular posts.\n",
        "\n",
        "In order to correct this imbalance, the minority class (popular) will be over-sampled by a scale of 0.5 and the majority class (not popular) will be under-sampled by a scale of 0.5\n",
        "\n",
        "In the case of over-sampling, simply duplicating examples in the minority class is not helpful, as these examples don’t add any new information to the model.\n",
        "\n",
        "Instead, new examples can be synthesized from the existing examples. This is known as Synthetic Minority Oversampling Technique, or SMOTE for short - based on this research paper:\n",
        "\n",
        "https://arxiv.org/abs/1106.1813\n",
        "\n",
        "SMOTE works by selecting examples that are close in the feature space. A random example from the minority class is first chosen and its k-nearest neighbors are found. A randomly selected neighbor is chosen and a synthetic example is created at a randomly selected point between the two examples in feature space.\n",
        "\n",
        "The approach is effective because new synthetic examples from the minority class are created that are plausible, that is, are relatively close in feature space to existing examples from the minority class.\n",
        "\n",
        "A mixture of SMOTE and under-sampling works better than just under-sampling so both of the techniques are used."
      ]
    },
    {
      "cell_type": "code",
      "metadata": {
        "id": "Ypw3ue4_La5D",
        "colab_type": "code",
        "colab": {
          "base_uri": "https://localhost:8080/",
          "height": 139
        },
        "outputId": "971344a2-0cbb-4a5a-f0bf-d5491877d50c"
      },
      "source": [
        "# set X as embeddings\n",
        "X = padded\n",
        "\n",
        "# counter to depict initial class imbalance\n",
        "counter = Counter(y)\n",
        "print(counter)\n",
        "\n",
        "# over-sampling and under-sampling\n",
        "over = SMOTE(sampling_strategy=0.5, random_state = 42)\n",
        "under = RandomUnderSampler(sampling_strategy=0.5, random_state = 42)\n",
        "steps = [('o', over), ('u', under)]\n",
        "pipeline = Pipeline(steps=steps)\n",
        "\n",
        "# transform the dataset\n",
        "X1, y1 = pipeline.fit_resample(X, y)\n",
        "\n",
        "# summarize the new class distribution\n",
        "counter = Counter(y1)\n",
        "print(counter)\n"
      ],
      "execution_count": 35,
      "outputs": [
        {
          "output_type": "stream",
          "text": [
            "Counter({0: 11055, 1: 582})\n"
          ],
          "name": "stdout"
        },
        {
          "output_type": "stream",
          "text": [
            "/usr/local/lib/python3.6/dist-packages/sklearn/utils/deprecation.py:87: FutureWarning: Function safe_indexing is deprecated; safe_indexing is deprecated in version 0.22 and will be removed in version 0.24.\n",
            "  warnings.warn(msg, category=FutureWarning)\n"
          ],
          "name": "stderr"
        },
        {
          "output_type": "stream",
          "text": [
            "Counter({0: 11054, 1: 5527})\n"
          ],
          "name": "stdout"
        },
        {
          "output_type": "stream",
          "text": [
            "/usr/local/lib/python3.6/dist-packages/sklearn/utils/deprecation.py:87: FutureWarning: Function safe_indexing is deprecated; safe_indexing is deprecated in version 0.22 and will be removed in version 0.24.\n",
            "  warnings.warn(msg, category=FutureWarning)\n"
          ],
          "name": "stderr"
        }
      ]
    },
    {
      "cell_type": "markdown",
      "metadata": {
        "id": "w5QiimIHvSFN",
        "colab_type": "text"
      },
      "source": [
        "It can be seen that the intial 5:95 split is now a 1:2 split.\n",
        "\n",
        "The class imbalance is corrected and now the model can be trained."
      ]
    },
    {
      "cell_type": "markdown",
      "metadata": {
        "id": "iv-w4dBjvhpM",
        "colab_type": "text"
      },
      "source": [
        "**Train-Validation Split**\n"
      ]
    },
    {
      "cell_type": "markdown",
      "metadata": {
        "id": "VQk5ZnU-vpc8",
        "colab_type": "text"
      },
      "source": [
        "The final step before building the model architecture is dividing the data into training and validation.\n",
        "\n",
        "A 80-20 split is used, along with stratified sampling to ensure an equal distribution of the classes in the training and validation data."
      ]
    },
    {
      "cell_type": "code",
      "metadata": {
        "id": "l3W4G9N1Slio",
        "colab_type": "code",
        "colab": {}
      },
      "source": [
        "X_train, X_test, y_train, y_test = train_test_split(X1, y1,test_size=0.2, random_state=0, stratify = y1)"
      ],
      "execution_count": 36,
      "outputs": []
    },
    {
      "cell_type": "markdown",
      "metadata": {
        "id": "ysD-ZHr5wCjG",
        "colab_type": "text"
      },
      "source": [
        "## Model Architecture"
      ]
    },
    {
      "cell_type": "markdown",
      "metadata": {
        "id": "bHv7_I62uXMI",
        "colab_type": "text"
      },
      "source": [
        "**Choosing the Baseline Model**"
      ]
    },
    {
      "cell_type": "markdown",
      "metadata": {
        "id": "LqASB9L9V9LO",
        "colab_type": "text"
      },
      "source": [
        "The baseline model used is a Long Short-Term Memory neural network (LSTM). The generated word embeddings are used as input to the LSTM model to\n",
        "learn the long distance contextual dependency among words.\n",
        "\n",
        "An LSTM is used as the baseline model for the following reasons:\n",
        "\n",
        "- Comments are generally short texts. To detect the popularity polarity from short texts, we need to explore deeper semantics of words using deep learning methods. An LSTM is used for learning long-distance dependency between word\n",
        "sequences in short texts.\n",
        "\n",
        "- Because an LSTM considers the context of words and explores the deeper semantics, it is preferred over other methods of text classification like Naive Bayes and TF-IDF - all of which do not consider long distance dependencies.\n",
        "\n",
        "-  For social media content which is very short and diverse, it is difficult to obtain useful features for classification. Conventional supervised learning methods such as bag-of-words model using TF-IDF, and probabilistic\n",
        "model using Naïve Bayes, usually need hand-crafted features. An LSTM model does not need hand-crafted features and is much more effective for short text classification. \n",
        "\n",
        "- LSTM models have shown great performance in prior research to classify social media comments - https://www.aclweb.org/anthology/O18-1021.pdf. So, an LSTM would work well in a similar setting of short text classification.\n"
      ]
    },
    {
      "cell_type": "markdown",
      "metadata": {
        "id": "vC_jB29judX7",
        "colab_type": "text"
      },
      "source": [
        "**Building the Model Architecture and Adding Layers** "
      ]
    },
    {
      "cell_type": "code",
      "metadata": {
        "id": "oR280SqWt-xB",
        "colab_type": "code",
        "colab": {
          "base_uri": "https://localhost:8080/",
          "height": 323
        },
        "outputId": "ef1a1129-7d6a-4f51-b2f8-1461040dd460"
      },
      "source": [
        "# building the model architecture\n",
        "tf.random.set_seed(42)\n",
        "model = tf.keras.Sequential([\n",
        "                             \n",
        "    # an embeddings layer with dimensions for vocab_size, word embeddings and max length of comments\n",
        "    tf.keras.layers.Embedding(vocab_size, embedding_dim, input_length=max_length),\n",
        "\n",
        "    # a bi-directional LSTM layer to consider forward and backward context\n",
        "    tf.keras.layers.Bidirectional(tf.keras.layers.LSTM(64)),\n",
        "    \n",
        "    # a dropout layer which randomly drops 20% of the neurons to reduce overfitting\n",
        "    tf.keras.layers.Dropout(0.2),\n",
        "\n",
        "    # hidden dense layer of DNN with relu activation to converge fast and prevent vanishing gradients\n",
        "    tf.keras.layers.Dense(6, activation='relu'),\n",
        "\n",
        "    # final output layer with sigmoid activation for binary classification\n",
        "    tf.keras.layers.Dense(1, activation='sigmoid')\n",
        "])\n",
        "\n",
        "\n",
        "# binary cross-entropy loss for binary classifcation\n",
        "# adam's optimizer to optimize weights chosen through cross-validation\n",
        "# accuracy and recall as metrics for evaluating model\n",
        "model.compile(loss='binary_crossentropy',optimizer='adam',metrics=['accuracy','Recall', 'Precision'])\n",
        "model.summary()"
      ],
      "execution_count": 37,
      "outputs": [
        {
          "output_type": "stream",
          "text": [
            "Model: \"sequential\"\n",
            "_________________________________________________________________\n",
            "Layer (type)                 Output Shape              Param #   \n",
            "=================================================================\n",
            "embedding (Embedding)        (None, 500, 32)           1600000   \n",
            "_________________________________________________________________\n",
            "bidirectional (Bidirectional (None, 128)               49664     \n",
            "_________________________________________________________________\n",
            "dropout (Dropout)            (None, 128)               0         \n",
            "_________________________________________________________________\n",
            "dense (Dense)                (None, 6)                 774       \n",
            "_________________________________________________________________\n",
            "dense_1 (Dense)              (None, 1)                 7         \n",
            "=================================================================\n",
            "Total params: 1,650,445\n",
            "Trainable params: 1,650,445\n",
            "Non-trainable params: 0\n",
            "_________________________________________________________________\n"
          ],
          "name": "stdout"
        }
      ]
    },
    {
      "cell_type": "code",
      "metadata": {
        "id": "RXv41h0R2FS4",
        "colab_type": "code",
        "colab": {
          "base_uri": "https://localhost:8080/",
          "height": 428
        },
        "outputId": "cad70f37-0ca3-4de6-ab41-e4e1293cd06e"
      },
      "source": [
        "# fit model on training data and evaluate model on validation data\n",
        "num_epochs = 10\n",
        "history = model.fit(X_train, y_train, epochs=num_epochs, validation_data=(X_test, y_test))"
      ],
      "execution_count": 38,
      "outputs": [
        {
          "output_type": "stream",
          "text": [
            "Epoch 1/10\n",
            "WARNING:tensorflow:From /usr/local/lib/python3.6/dist-packages/tensorflow/python/ops/resource_variable_ops.py:1817: calling BaseResourceVariable.__init__ (from tensorflow.python.ops.resource_variable_ops) with constraint is deprecated and will be removed in a future version.\n",
            "Instructions for updating:\n",
            "If using Keras pass *_constraint arguments to layers.\n",
            "415/415 [==============================] - 23s 56ms/step - loss: 0.5513 - accuracy: 0.7316 - recall: 0.4051 - precision: 0.6582 - val_loss: 0.4777 - val_accuracy: 0.8037 - val_recall: 0.7830 - val_precision: 0.6782\n",
            "Epoch 2/10\n",
            "415/415 [==============================] - 22s 53ms/step - loss: 0.4273 - accuracy: 0.7967 - recall: 0.5953 - precision: 0.7437 - val_loss: 0.2561 - val_accuracy: 0.9195 - val_recall: 0.8146 - val_precision: 0.9356\n",
            "Epoch 3/10\n",
            "415/415 [==============================] - 22s 53ms/step - loss: 0.1931 - accuracy: 0.9435 - recall: 0.8788 - precision: 0.9478 - val_loss: 0.2243 - val_accuracy: 0.9313 - val_recall: 0.8282 - val_precision: 0.9602\n",
            "Epoch 4/10\n",
            "415/415 [==============================] - 22s 53ms/step - loss: 0.1801 - accuracy: 0.9450 - recall: 0.8867 - precision: 0.9450 - val_loss: 0.2389 - val_accuracy: 0.9285 - val_recall: 0.8834 - val_precision: 0.9005\n",
            "Epoch 5/10\n",
            "415/415 [==============================] - 22s 53ms/step - loss: 0.1156 - accuracy: 0.9696 - recall: 0.9294 - precision: 0.9783 - val_loss: 0.2326 - val_accuracy: 0.9403 - val_recall: 0.8960 - val_precision: 0.9227\n",
            "Epoch 6/10\n",
            "415/415 [==============================] - 22s 53ms/step - loss: 0.0865 - accuracy: 0.9767 - recall: 0.9473 - precision: 0.9822 - val_loss: 0.2356 - val_accuracy: 0.9424 - val_recall: 0.8825 - val_precision: 0.9412\n",
            "Epoch 7/10\n",
            "415/415 [==============================] - 22s 52ms/step - loss: 0.0662 - accuracy: 0.9816 - recall: 0.9579 - precision: 0.9865 - val_loss: 0.2571 - val_accuracy: 0.9412 - val_recall: 0.8644 - val_precision: 0.9550\n",
            "Epoch 8/10\n",
            "415/415 [==============================] - 22s 53ms/step - loss: 0.0645 - accuracy: 0.9833 - recall: 0.9593 - precision: 0.9904 - val_loss: 0.2671 - val_accuracy: 0.9382 - val_recall: 0.8580 - val_precision: 0.9519\n",
            "Epoch 9/10\n",
            "415/415 [==============================] - 22s 53ms/step - loss: 0.0531 - accuracy: 0.9850 - recall: 0.9701 - precision: 0.9846 - val_loss: 0.2947 - val_accuracy: 0.9273 - val_recall: 0.8933 - val_precision: 0.8893\n",
            "Epoch 10/10\n",
            "415/415 [==============================] - 22s 53ms/step - loss: 0.1088 - accuracy: 0.9687 - recall: 0.9572 - precision: 0.9493 - val_loss: 0.2764 - val_accuracy: 0.9394 - val_recall: 0.8770 - val_precision: 0.9372\n"
          ],
          "name": "stdout"
        }
      ]
    },
    {
      "cell_type": "markdown",
      "metadata": {
        "id": "cx7ke3yUuHuH",
        "colab_type": "text"
      },
      "source": [
        "**Model Evaluation**"
      ]
    },
    {
      "cell_type": "markdown",
      "metadata": {
        "id": "JHJaIfuzolU5",
        "colab_type": "text"
      },
      "source": [
        "Based on the metrics above and the graphs below, over the course of 10 epochs, the model was able to attain a **training accuracy of ~97%** and a **validation accuracy of ~94%**.\n",
        "\n",
        "The high validation accuracy illustrates how effective the LSTM model is in predicting popularity of posts based on their comments.\n",
        "\n",
        "However, in this particular scenario, **Precision** and **Recall** are better metrics to evaluate our model. This is because we are more concerned with correctly identifying the popular posts.\n",
        "\n",
        "Although the precision is a bit fickle due to the low number of epochs, our **final precision is ~94%.** This means that out of all the posts that our model predicted as popular, **94%** were actually popular on Instagram.\n",
        "\n",
        "The most important metric for our scenario is **Recall**. This is because recall discourages false negatives, which is very important to us. A false negative means that the post was actually trending on Instagram and our model missed out in identifying this popular post. Our final **Recall is ~88%**, which is a decent metric given the high volume of comments. This means that of all the trending posts on Instagram, our model was able to correctly identify **88%** of them as popular based on their comments.\n",
        "\n",
        "\n",
        "\n"
      ]
    },
    {
      "cell_type": "code",
      "metadata": {
        "id": "XXUoN2VY2Tmk",
        "colab_type": "code",
        "colab": {
          "base_uri": "https://localhost:8080/",
          "height": 803
        },
        "outputId": "1772fe82-05ea-4dd0-faa7-b1e4f35e7e04"
      },
      "source": [
        "# code to plot graphs for model evaluation\n",
        "def plot_graphs(history, string):\n",
        "  plt.plot(history.history[string])\n",
        "  plt.plot(history.history['val_'+string])\n",
        "  plt.xlabel(\"Epochs\")\n",
        "  plt.ylabel(string)\n",
        "  plt.legend([string, 'val_'+string])\n",
        "  plt.show()\n",
        "\n",
        "# plot accuracy over epochs\n",
        "plot_graphs(history, 'accuracy')\n",
        "\n",
        "# plot recall over epochs\n",
        "plot_graphs(history, 'recall')\n",
        "\n",
        "# plot precision over epochs\n",
        "plot_graphs(history, 'precision')"
      ],
      "execution_count": 39,
      "outputs": [
        {
          "output_type": "display_data",
          "data": {
            "image/png": "[encoded data removed]",
            "text/plain": [
              "<Figure size 432x288 with 1 Axes>"
            ]
          },
          "metadata": {
            "tags": [],
            "needs_background": "light"
          }
        },
        {
          "output_type": "display_data",
          "data": {
            "image/png": "[encoded data removed]",
            "text/plain": [
              "<Figure size 432x288 with 1 Axes>"
            ]
          },
          "metadata": {
            "tags": [],
            "needs_background": "light"
          }
        },
        {
          "output_type": "display_data",
          "data": {
            "image/png": "[encoded data removed]",
            "text/plain": [
              "<Figure size 432x288 with 1 Axes>"
            ]
          },
          "metadata": {
            "tags": [],
            "needs_background": "light"
          }
        }
      ]
    },
    {
      "cell_type": "markdown",
      "metadata": {
        "id": "_M_7ag07CxVS",
        "colab_type": "text"
      },
      "source": [
        "## Alternate Features and Models"
      ]
    },
    {
      "cell_type": "markdown",
      "metadata": {
        "id": "PqvMfjClE_4D",
        "colab_type": "text"
      },
      "source": [
        "#### **Improve Current Model** "
      ]
    },
    {
      "cell_type": "markdown",
      "metadata": {
        "id": "rE0AdkYUC9DS",
        "colab_type": "text"
      },
      "source": [
        "While the existing model did perform really well at predicting popular posts from comments, certain features/implementations could be done that might enhance the model.\n",
        "\n",
        "\n"
      ]
    },
    {
      "cell_type": "markdown",
      "metadata": {
        "id": "cBJUFwn8Kupk",
        "colab_type": "text"
      },
      "source": [
        "\n",
        "**Google Translate**: \n",
        "\n",
        "There were a few comments that were in a language other than English. With the current model, the words from these comments had their own embeddings generated, regardless of whether the word had the same meaning in English. If these foreign language words were translated into English, then similar words would have the same embeddings as their synonyms in English. This would generate embeddings better representative of the meanings of words, and thus improve model performance. This would be done with the help of the **Googletrans** library that uses the Google Translate API to translate Python strings in other languages into English. More information here: https://towardsdatascience.com/translate-a-pandas-data-frame-using-googletrans-library-fb0aa7fca592"
      ]
    },
    {
      "cell_type": "markdown",
      "metadata": {
        "id": "Wbz0NKtFK2QK",
        "colab_type": "text"
      },
      "source": [
        "\n",
        "**Pre-trained word embeddings**: \n",
        "\n",
        "Another way to improve upon the current model would be to use pre-trained word embeddings, a form of transfer learning. Pretrained Word Embeddings are the embeddings learned in one task that are used for solving another similar task. These embeddings are trained on large datasets, saved, and then used for solving other tasks.\n",
        "\n",
        "Currently the model architecture generates its own embeddings from the corpus using the Tokenizer API in Keras. \n",
        "\n",
        "The **fit_on_text** method updates internal vocabulary based on a list of comments. This method creates the vocabulary index based on word frequency. \n",
        "\n",
        "The **words_to_sequences** method transforms each comment to a sequence of integers. It takes each word in the comment and replaces it with its corresponding integer value from the word_index dictionary. \n",
        "\n",
        "An **embedding layer** is added in the model architecture which is intialized with random weights and takes our vocab_size, embeddings_dim and max_length as input. This layer will learn an embedding for all of the words in the training dataset.\n",
        "\n",
        "With **Transfer Learning**, the following pre-trained word embeddings can be used:\n",
        "\n",
        "- **Word2Vec**: Word2Vec is one of the most popular pretrained word embeddings developed by Google. It is trained on the Google News dataset of about 100 billion words. Word2Vec relies on two approcahes to generate embeddings - Bag of Words and Skip-gram. **Continuous Bag-of-Words (CBOW)** model learns the focus word given the neighboring words whereas the **Skip-gram** model learns the neighboring words given the focus word. More info: https://code.google.com/archive/p/word2vec/\n",
        "\n",
        "- **GloVe**: This was developed by Stanford. GloVe learns to encode the information of the probability ratio in the form of word vectors. It uses a co-occurrence matrix that tells us how often a particular pair of words occur together, computes the probabilities of words appearing together and derives relationships between words. More info: https://nlp.stanford.edu/projects/glove/\n",
        "\n",
        "Either one of these pre-trained word embeddings could be used in our model, with very little code to add:\n",
        "- First, simply download the pre-trained embeddings as a dictionary. \n",
        "- Create an embeddings matrix  with one embedding for each word in the training dataset. Look into the word_index generated by the Keras tokenzier to find unique words in the training data, and add their corresponding emdedding vector from the pre-trained emdedding dictionary. \n",
        "- When adding the Keras embeddings layer to the model architecture, set the weights equal to the embeddings matrix generated above, dimension equal to the dimesion of pre-trained embeddings and the trainable parameter to false as we do not want to update the learned word weights in this model.\n",
        "\n",
        "Using pre-trained embeddings has the following advantages:\n",
        "- Pretrained word embeddings capture the semantic and syntactic meaning of a word as they are trained on large datasets. They can boost performance of NLP models.\n",
        "- Generating word embeddings from scratch increases training time due to large number of trainable parameters. Pre-trained embeddings are much faster, as we do not update the learned word weights.\n",
        "- There is a sparsity of training data if our corpus has a large volume of rare words. The embeddings learned from scratch cannot arrive at the right representation of the word. Pre-trained embeddings do not face this problem as they have a rich vocabulary."
      ]
    },
    {
      "cell_type": "markdown",
      "metadata": {
        "id": "OPmd9Ej8XwXj",
        "colab_type": "text"
      },
      "source": [
        "#### **Build New Model**"
      ]
    },
    {
      "cell_type": "markdown",
      "metadata": {
        "id": "hlcAe6qaX4Mv",
        "colab_type": "text"
      },
      "source": [
        "While leveraging NLP techniques on comments to predict popular posts has certainly proved an effective model, an alternate approach to this problem could be to use Computer Vision technologies.\n",
        "\n",
        "More specifically, we can build a **Convolutional Neural Network** that uses the images themselves to predict whether the post would trend on Instagram. The CNN could analyze certain features from images that contribute to post popularity - Bright Colors, Image Orientation with focus on clothing rather than person etc.\n"
      ]
    },
    {
      "cell_type": "markdown",
      "metadata": {
        "id": "bh7dVgiYZ3ny",
        "colab_type": "text"
      },
      "source": [
        "**Theory**:\n",
        "\n",
        "CNNs are different from DNNs in the way that apart from the dense layers that make up a neural network, the model architecture has additional layers called **convolutional** and **pooling** layers.\n",
        "\n",
        "With a CNN, the input is a tensor in the shape of number of images x their dimension (height, width, depth).\n",
        "\n",
        "The **convolutional layer** performs a mathematical operation called convolution to the image pixels to extract the high-level features (color, edges, gradient orientation) of the image.\n",
        "\n",
        "The **pooling layer** reduces the dimension to decrease the computational power required to process the data.\n",
        "\n",
        "More info about CNNs here: https://towardsdatascience.com/a-comprehensive-guide-to-convolutional-neural-networks-the-eli5-way-3bd2b1164a53\n",
        "\n"
      ]
    },
    {
      "cell_type": "markdown",
      "metadata": {
        "id": "46B0pB8ccm3X",
        "colab_type": "text"
      },
      "source": [
        "**Why to use CNN?**\n",
        "\n",
        "Because of way CNNs are designed and their implementation described above, a Convolutional Neural Network would be the perfect model in our case to predicting trending posts on Instagram by using the images we have in our data. \n",
        "\n",
        "A ConvNet is able to successfully capture the Spatial and Temporal dependencies in an image through the application of relevant filters. Therefore the model can understand the sophistication and certain features behind popular images."
      ]
    },
    {
      "cell_type": "markdown",
      "metadata": {
        "id": "lyvadq5fdy5M",
        "colab_type": "text"
      },
      "source": [
        "**Data Pre-Processing**:\n",
        "\n",
        "We already calculated the popularity metric and the is_popular binary variable. This will be used as the label for the CNN.\n",
        "\n",
        "For the features, we will use the images themselves. We can extract these images using the **image_url** column in the dataset and download them into a directory on Colab using the **wget.download()** method. Separate directories for training and validation can be made and images in random order can be downloaded into these directories.\n"
      ]
    },
    {
      "cell_type": "markdown",
      "metadata": {
        "id": "3sQmtSwyfEW5",
        "colab_type": "text"
      },
      "source": [
        "**Model Architecture**:\n",
        "\n",
        "The model architecture will be a bit different than a DNN because of the convolutional and pooling layers.\n",
        "\n",
        "**tf.keras.layers.Conv2D()** will be used to build the convolutional layer taking in the input shape of the images.\n",
        "\n",
        "**tf.keras.layers.MaxPooling2D()** will be used to build the pooling layer with input of the dimension we want to reduce the image by.\n",
        "\n",
        "Multiple convolutional and pooling layers can be added to the model architecture after which **tf.keras.layers.Flatten()** is used to flatten the results to feed into a DNN.\n",
        "\n",
        "After building these layers, the rest of architecture is similar to a DNN wih dense and output layers.\n"
      ]
    },
    {
      "cell_type": "markdown",
      "metadata": {
        "id": "Nu6U7mfdgrz8",
        "colab_type": "text"
      },
      "source": [
        "**Model Training and Overfitting**:\n",
        "\n",
        "To counter the problem of overfitting while training and increase the amount of training data, a technique called **Image Augmentation** can be applied.\n",
        "\n",
        "This technique uses the **ImageDataGenerator()** method to rotate, shift, zoom and flip images. This way we have more images to train on, thereby reducing overfitting.\n",
        "\n",
        "The **flow_from_directory()** method takes in the directory of images created in the last part and outputs a generator which we can then fit on our training data by using the **model.fit_generator()** method.\n",
        "\n",
        "With these steps, we have trained a Convolutional Neural Network that predicts trending posts on Instagram through images. Evaluation metrics similar to the ones we utilized earlier can then be applied to judge the effectiveness of our model."
      ]
    },
    {
      "cell_type": "markdown",
      "metadata": {
        "id": "g4qzi4Zbi0l_",
        "colab_type": "text"
      },
      "source": [
        "## Summary"
      ]
    },
    {
      "cell_type": "markdown",
      "metadata": {
        "id": "jumuH3Gpi4FP",
        "colab_type": "text"
      },
      "source": [
        "Through this notebook I accomplished the following tasks:\n",
        "\n",
        "- Devised a popularity metric by leveraging various features provided in different datasets to calculate popularity of posts on Instagram.\n",
        "- Used the popularity metric to establish top trending posts on Instagram in April 2020.\n",
        "- Used NLP techniques to develop an LSTM model with high values (above 90%) of accuracy, precision and recall that predicts popularity of posts based on their comments.\n",
        "- Suggested techniques to improve/enhance the LSTM model.\n",
        "- Discussed an alternate model to predict trending posts by using a Convolutional Neural Network."
      ]
    },
    {
      "cell_type": "code",
      "metadata": {
        "id": "b5PZ6RKFi2Jj",
        "colab_type": "code",
        "colab": {}
      },
      "source": [
        ""
      ],
      "execution_count": null,
      "outputs": []
    }
  ]
}
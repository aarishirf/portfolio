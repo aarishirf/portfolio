{
  "nbformat": 4,
  "nbformat_minor": 0,
  "metadata": {
    "colab": {
      "name": "Song_Genre_Predictor_Aarish_Irfan.ipynb",
      "provenance": [],
      "collapsed_sections": [],
      "machine_shape": "hm"
    },
    "kernelspec": {
      "display_name": "Python 3",
      "language": "python",
      "name": "python3"
    },
    "language_info": {
      "codemirror_mode": {
        "name": "ipython",
        "version": 3
      },
      "file_extension": ".py",
      "mimetype": "text/x-python",
      "name": "python",
      "nbconvert_exporter": "python",
      "pygments_lexer": "ipython3",
      "version": "3.7.4"
    }
  },
  "cells": [
    {
      "cell_type": "markdown",
      "metadata": {
        "id": "rh307gGMCDgx",
        "colab_type": "text"
      },
      "source": [
        "## **Song Genre Predictor - Aarish Irfan**\n"
      ]
    },
    {
      "cell_type": "code",
      "metadata": {
        "colab_type": "code",
        "id": "kdqs-akm8z5E",
        "colab": {
          "base_uri": "https://localhost:8080/",
          "height": 51
        },
        "outputId": "9a77f36f-1257-4f56-e2d5-8c5b5f7c8b64"
      },
      "source": [
        "%matplotlib inline\n",
        "import pandas as pd\n",
        "import numpy as np\n",
        "import matplotlib.pyplot as plt\n",
        "import seaborn as sns\n",
        "from collections import Counter\n",
        "\n",
        "from keras.models import Sequential\n",
        "from keras.layers import Dense\n",
        "from keras.wrappers.scikit_learn import KerasClassifier\n",
        "from keras.utils import np_utils\n",
        "\n",
        "import nltk\n",
        "from nltk.sentiment.vader import SentimentIntensityAnalyzer\n",
        "from nltk.corpus import stopwords\n",
        "from nltk.tokenize import word_tokenize \n",
        "nltk.download('punkt')\n",
        "\n",
        "from sklearn import preprocessing\n",
        "from sklearn.ensemble import RandomForestClassifier\n",
        "from sklearn.multioutput import MultiOutputClassifier\n",
        "from sklearn.metrics import accuracy_score, hamming_loss\n",
        "from sklearn.model_selection import train_test_split, cross_val_score, KFold\n",
        "from sklearn.preprocessing import LabelEncoder\n",
        "from sklearn.feature_extraction.text import TfidfVectorizer\n",
        "\n",
        "import random"
      ],
      "execution_count": null,
      "outputs": [
        {
          "output_type": "stream",
          "text": [
            "[nltk_data] Downloading package punkt to /root/nltk_data...\n",
            "[nltk_data]   Package punkt is already up-to-date!\n"
          ],
          "name": "stdout"
        }
      ]
    },
    {
      "cell_type": "code",
      "metadata": {
        "colab_type": "code",
        "id": "47y_Ez0_8z5V",
        "colab": {
          "base_uri": "https://localhost:8080/",
          "height": 34
        },
        "outputId": "16263675-d7d2-430c-a9a7-0fb22c3ad7f0"
      },
      "source": [
        "from google.colab import drive\n",
        "drive.mount('/content/drive')"
      ],
      "execution_count": null,
      "outputs": [
        {
          "output_type": "stream",
          "text": [
            "Drive already mounted at /content/drive; to attempt to forcibly remount, call drive.mount(\"/content/drive\", force_remount=True).\n"
          ],
          "name": "stdout"
        }
      ]
    },
    {
      "cell_type": "code",
      "metadata": {
        "colab_type": "code",
        "id": "t3t0OU34-db_",
        "colab": {}
      },
      "source": [
        "path = \"/content/drive/My Drive/lyrics.csv\"\n",
        "lyrics = pd.read_csv(path)"
      ],
      "execution_count": null,
      "outputs": []
    },
    {
      "cell_type": "code",
      "metadata": {
        "colab_type": "code",
        "id": "0SOLJeqD8z5j",
        "scrolled": true,
        "colab": {
          "base_uri": "https://localhost:8080/",
          "height": 204
        },
        "outputId": "33f7ad3b-4601-4ee9-f44a-ee02f0d8939a"
      },
      "source": [
        "lyrics.head()"
      ],
      "execution_count": null,
      "outputs": [
        {
          "output_type": "execute_result",
          "data": {
            "text/html": [
              "<div>\n",
              "<style scoped>\n",
              "    .dataframe tbody tr th:only-of-type {\n",
              "        vertical-align: middle;\n",
              "    }\n",
              "\n",
              "    .dataframe tbody tr th {\n",
              "        vertical-align: top;\n",
              "    }\n",
              "\n",
              "    .dataframe thead th {\n",
              "        text-align: right;\n",
              "    }\n",
              "</style>\n",
              "<table border=\"1\" class=\"dataframe\">\n",
              "  <thead>\n",
              "    <tr style=\"text-align: right;\">\n",
              "      <th></th>\n",
              "      <th>index</th>\n",
              "      <th>song</th>\n",
              "      <th>year</th>\n",
              "      <th>artist</th>\n",
              "      <th>genre</th>\n",
              "      <th>lyrics</th>\n",
              "    </tr>\n",
              "  </thead>\n",
              "  <tbody>\n",
              "    <tr>\n",
              "      <th>0</th>\n",
              "      <td>0</td>\n",
              "      <td>ego-remix</td>\n",
              "      <td>2009</td>\n",
              "      <td>beyonce-knowles</td>\n",
              "      <td>Pop</td>\n",
              "      <td>Oh baby, how you doing?\\nYou know I'm gonna cu...</td>\n",
              "    </tr>\n",
              "    <tr>\n",
              "      <th>1</th>\n",
              "      <td>1</td>\n",
              "      <td>then-tell-me</td>\n",
              "      <td>2009</td>\n",
              "      <td>beyonce-knowles</td>\n",
              "      <td>Pop</td>\n",
              "      <td>playin' everything so easy,\\nit's like you see...</td>\n",
              "    </tr>\n",
              "    <tr>\n",
              "      <th>2</th>\n",
              "      <td>2</td>\n",
              "      <td>honesty</td>\n",
              "      <td>2009</td>\n",
              "      <td>beyonce-knowles</td>\n",
              "      <td>Pop</td>\n",
              "      <td>If you search\\nFor tenderness\\nIt isn't hard t...</td>\n",
              "    </tr>\n",
              "    <tr>\n",
              "      <th>3</th>\n",
              "      <td>3</td>\n",
              "      <td>you-are-my-rock</td>\n",
              "      <td>2009</td>\n",
              "      <td>beyonce-knowles</td>\n",
              "      <td>Pop</td>\n",
              "      <td>Oh oh oh I, oh oh oh I\\n[Verse 1:]\\nIf I wrote...</td>\n",
              "    </tr>\n",
              "    <tr>\n",
              "      <th>4</th>\n",
              "      <td>4</td>\n",
              "      <td>black-culture</td>\n",
              "      <td>2009</td>\n",
              "      <td>beyonce-knowles</td>\n",
              "      <td>Pop</td>\n",
              "      <td>Party the people, the people the party it's po...</td>\n",
              "    </tr>\n",
              "  </tbody>\n",
              "</table>\n",
              "</div>"
            ],
            "text/plain": [
              "   index  ...                                             lyrics\n",
              "0      0  ...  Oh baby, how you doing?\\nYou know I'm gonna cu...\n",
              "1      1  ...  playin' everything so easy,\\nit's like you see...\n",
              "2      2  ...  If you search\\nFor tenderness\\nIt isn't hard t...\n",
              "3      3  ...  Oh oh oh I, oh oh oh I\\n[Verse 1:]\\nIf I wrote...\n",
              "4      4  ...  Party the people, the people the party it's po...\n",
              "\n",
              "[5 rows x 6 columns]"
            ]
          },
          "metadata": {
            "tags": []
          },
          "execution_count": 4
        }
      ]
    },
    {
      "cell_type": "code",
      "metadata": {
        "colab_type": "code",
        "id": "jJaZYIap8z50",
        "colab": {
          "base_uri": "https://localhost:8080/",
          "height": 297
        },
        "outputId": "c59cbf1b-80fc-43b5-ab3a-fb367b3b4647"
      },
      "source": [
        "lyrics.describe()"
      ],
      "execution_count": null,
      "outputs": [
        {
          "output_type": "execute_result",
          "data": {
            "text/html": [
              "<div>\n",
              "<style scoped>\n",
              "    .dataframe tbody tr th:only-of-type {\n",
              "        vertical-align: middle;\n",
              "    }\n",
              "\n",
              "    .dataframe tbody tr th {\n",
              "        vertical-align: top;\n",
              "    }\n",
              "\n",
              "    .dataframe thead th {\n",
              "        text-align: right;\n",
              "    }\n",
              "</style>\n",
              "<table border=\"1\" class=\"dataframe\">\n",
              "  <thead>\n",
              "    <tr style=\"text-align: right;\">\n",
              "      <th></th>\n",
              "      <th>index</th>\n",
              "      <th>year</th>\n",
              "    </tr>\n",
              "  </thead>\n",
              "  <tbody>\n",
              "    <tr>\n",
              "      <th>count</th>\n",
              "      <td>362237.000000</td>\n",
              "      <td>362237.000000</td>\n",
              "    </tr>\n",
              "    <tr>\n",
              "      <th>mean</th>\n",
              "      <td>181118.000000</td>\n",
              "      <td>2008.537596</td>\n",
              "    </tr>\n",
              "    <tr>\n",
              "      <th>std</th>\n",
              "      <td>104568.959068</td>\n",
              "      <td>9.908024</td>\n",
              "    </tr>\n",
              "    <tr>\n",
              "      <th>min</th>\n",
              "      <td>0.000000</td>\n",
              "      <td>67.000000</td>\n",
              "    </tr>\n",
              "    <tr>\n",
              "      <th>25%</th>\n",
              "      <td>90559.000000</td>\n",
              "      <td>2006.000000</td>\n",
              "    </tr>\n",
              "    <tr>\n",
              "      <th>50%</th>\n",
              "      <td>181118.000000</td>\n",
              "      <td>2008.000000</td>\n",
              "    </tr>\n",
              "    <tr>\n",
              "      <th>75%</th>\n",
              "      <td>271677.000000</td>\n",
              "      <td>2014.000000</td>\n",
              "    </tr>\n",
              "    <tr>\n",
              "      <th>max</th>\n",
              "      <td>362236.000000</td>\n",
              "      <td>2038.000000</td>\n",
              "    </tr>\n",
              "  </tbody>\n",
              "</table>\n",
              "</div>"
            ],
            "text/plain": [
              "               index           year\n",
              "count  362237.000000  362237.000000\n",
              "mean   181118.000000    2008.537596\n",
              "std    104568.959068       9.908024\n",
              "min         0.000000      67.000000\n",
              "25%     90559.000000    2006.000000\n",
              "50%    181118.000000    2008.000000\n",
              "75%    271677.000000    2014.000000\n",
              "max    362236.000000    2038.000000"
            ]
          },
          "metadata": {
            "tags": []
          },
          "execution_count": 5
        }
      ]
    },
    {
      "cell_type": "code",
      "metadata": {
        "colab_type": "code",
        "id": "BvsUsE1h8z58",
        "colab": {
          "base_uri": "https://localhost:8080/",
          "height": 136
        },
        "outputId": "ca30d5c3-101a-4633-bdf0-ac887ddc8af0"
      },
      "source": [
        "lyrics.isnull().any()"
      ],
      "execution_count": null,
      "outputs": [
        {
          "output_type": "execute_result",
          "data": {
            "text/plain": [
              "index     False\n",
              "song       True\n",
              "year      False\n",
              "artist    False\n",
              "genre     False\n",
              "lyrics     True\n",
              "dtype: bool"
            ]
          },
          "metadata": {
            "tags": []
          },
          "execution_count": 6
        }
      ]
    },
    {
      "cell_type": "code",
      "metadata": {
        "colab_type": "code",
        "id": "vWqv4eGb8z6F",
        "colab": {
          "base_uri": "https://localhost:8080/",
          "height": 136
        },
        "outputId": "dd333cbf-a78a-4c1f-861e-ee8da19ae4fd"
      },
      "source": [
        "lyrics.isnull().sum()"
      ],
      "execution_count": null,
      "outputs": [
        {
          "output_type": "execute_result",
          "data": {
            "text/plain": [
              "index         0\n",
              "song          2\n",
              "year          0\n",
              "artist        0\n",
              "genre         0\n",
              "lyrics    95680\n",
              "dtype: int64"
            ]
          },
          "metadata": {
            "tags": []
          },
          "execution_count": 7
        }
      ]
    },
    {
      "cell_type": "code",
      "metadata": {
        "colab_type": "code",
        "id": "8K0G4UyG8z6K",
        "colab": {}
      },
      "source": [
        "# Removing null rows\n",
        "songs = lyrics[lyrics['lyrics'].isnull() == False]\n",
        "songs = songs[songs['song'].isnull() == False]"
      ],
      "execution_count": null,
      "outputs": []
    },
    {
      "cell_type": "code",
      "metadata": {
        "colab_type": "code",
        "id": "WCOVxBCm8z6U",
        "colab": {
          "base_uri": "https://localhost:8080/",
          "height": 255
        },
        "outputId": "72ae0649-5b60-4672-ed31-2f29eecb825d"
      },
      "source": [
        "songs.groupby('genre').size()"
      ],
      "execution_count": null,
      "outputs": [
        {
          "output_type": "execute_result",
          "data": {
            "text/plain": [
              "genre\n",
              "Country           14387\n",
              "Electronic         7966\n",
              "Folk               2243\n",
              "Hip-Hop           24850\n",
              "Indie              3149\n",
              "Jazz               7970\n",
              "Metal             23759\n",
              "Not Available     23941\n",
              "Other              5189\n",
              "Pop               40466\n",
              "R&B                3401\n",
              "Rock             109235\n",
              "dtype: int64"
            ]
          },
          "metadata": {
            "tags": []
          },
          "execution_count": 9
        }
      ]
    },
    {
      "cell_type": "code",
      "metadata": {
        "colab_type": "code",
        "id": "dBpLTz6U8z6e",
        "colab": {}
      },
      "source": [
        "songs = songs[songs['genre'] != 'Not Available']\n",
        "songs = songs[songs['genre'] != 'Other']"
      ],
      "execution_count": null,
      "outputs": []
    },
    {
      "cell_type": "code",
      "metadata": {
        "colab_type": "code",
        "id": "Sk4KGtx-8z6o",
        "colab": {
          "base_uri": "https://localhost:8080/",
          "height": 1000
        },
        "outputId": "b95ff7b7-c51e-4268-ce80-00327ccab7a5"
      },
      "source": [
        "plt.figure(figsize=[20,20])\n",
        "plt.hist(songs['genre'])"
      ],
      "execution_count": null,
      "outputs": [
        {
          "output_type": "execute_result",
          "data": {
            "text/plain": [
              "(array([ 40466.,  24850., 109235.,  23759.,  14387.,   7970.,   7966.,\n",
              "          2243.,   3401.,   3149.]),\n",
              " array([0. , 0.9, 1.8, 2.7, 3.6, 4.5, 5.4, 6.3, 7.2, 8.1, 9. ]),\n",
              " <a list of 10 Patch objects>)"
            ]
          },
          "metadata": {
            "tags": []
          },
          "execution_count": 11
        },
        {
          "output_type": "display_data",
          "data": {
            "image/png": "[encoded data removed]",
            "text/plain": [
              "<Figure size 1440x1440 with 1 Axes>"
            ]
          },
          "metadata": {
            "tags": []
          }
        }
      ]
    },
    {
      "cell_type": "code",
      "metadata": {
        "colab_type": "code",
        "id": "J15w0bCn8z6s",
        "colab": {
          "base_uri": "https://localhost:8080/",
          "height": 204
        },
        "outputId": "df28922c-3a42-4012-c4bb-ac7b45e54294"
      },
      "source": [
        "songs['length'] = songs['lyrics'].str.len()\n",
        "songs.head()"
      ],
      "execution_count": null,
      "outputs": [
        {
          "output_type": "execute_result",
          "data": {
            "text/html": [
              "<div>\n",
              "<style scoped>\n",
              "    .dataframe tbody tr th:only-of-type {\n",
              "        vertical-align: middle;\n",
              "    }\n",
              "\n",
              "    .dataframe tbody tr th {\n",
              "        vertical-align: top;\n",
              "    }\n",
              "\n",
              "    .dataframe thead th {\n",
              "        text-align: right;\n",
              "    }\n",
              "</style>\n",
              "<table border=\"1\" class=\"dataframe\">\n",
              "  <thead>\n",
              "    <tr style=\"text-align: right;\">\n",
              "      <th></th>\n",
              "      <th>index</th>\n",
              "      <th>song</th>\n",
              "      <th>year</th>\n",
              "      <th>artist</th>\n",
              "      <th>genre</th>\n",
              "      <th>lyrics</th>\n",
              "      <th>length</th>\n",
              "    </tr>\n",
              "  </thead>\n",
              "  <tbody>\n",
              "    <tr>\n",
              "      <th>0</th>\n",
              "      <td>0</td>\n",
              "      <td>ego-remix</td>\n",
              "      <td>2009</td>\n",
              "      <td>beyonce-knowles</td>\n",
              "      <td>Pop</td>\n",
              "      <td>Oh baby, how you doing?\\nYou know I'm gonna cu...</td>\n",
              "      <td>1961</td>\n",
              "    </tr>\n",
              "    <tr>\n",
              "      <th>1</th>\n",
              "      <td>1</td>\n",
              "      <td>then-tell-me</td>\n",
              "      <td>2009</td>\n",
              "      <td>beyonce-knowles</td>\n",
              "      <td>Pop</td>\n",
              "      <td>playin' everything so easy,\\nit's like you see...</td>\n",
              "      <td>1270</td>\n",
              "    </tr>\n",
              "    <tr>\n",
              "      <th>2</th>\n",
              "      <td>2</td>\n",
              "      <td>honesty</td>\n",
              "      <td>2009</td>\n",
              "      <td>beyonce-knowles</td>\n",
              "      <td>Pop</td>\n",
              "      <td>If you search\\nFor tenderness\\nIt isn't hard t...</td>\n",
              "      <td>827</td>\n",
              "    </tr>\n",
              "    <tr>\n",
              "      <th>3</th>\n",
              "      <td>3</td>\n",
              "      <td>you-are-my-rock</td>\n",
              "      <td>2009</td>\n",
              "      <td>beyonce-knowles</td>\n",
              "      <td>Pop</td>\n",
              "      <td>Oh oh oh I, oh oh oh I\\n[Verse 1:]\\nIf I wrote...</td>\n",
              "      <td>2344</td>\n",
              "    </tr>\n",
              "    <tr>\n",
              "      <th>4</th>\n",
              "      <td>4</td>\n",
              "      <td>black-culture</td>\n",
              "      <td>2009</td>\n",
              "      <td>beyonce-knowles</td>\n",
              "      <td>Pop</td>\n",
              "      <td>Party the people, the people the party it's po...</td>\n",
              "      <td>1540</td>\n",
              "    </tr>\n",
              "  </tbody>\n",
              "</table>\n",
              "</div>"
            ],
            "text/plain": [
              "   index  ... length\n",
              "0      0  ...   1961\n",
              "1      1  ...   1270\n",
              "2      2  ...    827\n",
              "3      3  ...   2344\n",
              "4      4  ...   1540\n",
              "\n",
              "[5 rows x 7 columns]"
            ]
          },
          "metadata": {
            "tags": []
          },
          "execution_count": 12
        }
      ]
    },
    {
      "cell_type": "code",
      "metadata": {
        "colab_type": "code",
        "id": "ZCzea4538z6v",
        "colab": {
          "base_uri": "https://localhost:8080/",
          "height": 296
        },
        "outputId": "8fff496b-904f-4e40-9c97-2ff9565741b1"
      },
      "source": [
        "sns.barplot(x='genre', y='length', data=songs)"
      ],
      "execution_count": null,
      "outputs": [
        {
          "output_type": "execute_result",
          "data": {
            "text/plain": [
              "<matplotlib.axes._subplots.AxesSubplot at 0x7fbeba7b52e8>"
            ]
          },
          "metadata": {
            "tags": []
          },
          "execution_count": 13
        },
        {
          "output_type": "display_data",
          "data": {
            "image/png": "[encoded data removed]",
            "text/plain": [
              "<Figure size 432x288 with 1 Axes>"
            ]
          },
          "metadata": {
            "tags": []
          }
        }
      ]
    },
    {
      "cell_type": "code",
      "metadata": {
        "id": "bB-fa8Pd09rd",
        "colab_type": "code",
        "colab": {
          "base_uri": "https://localhost:8080/",
          "height": 51
        },
        "outputId": "f93341a8-4a03-49fd-9f60-72a99bb314f3"
      },
      "source": [
        "# Cleaning lyrics\n",
        "def convert_to_lower_case(text): \n",
        "  return text.lower()\n",
        "\n",
        "songs[\"lyrics\"] = songs[\"lyrics\"].apply(convert_to_lower_case)\n",
        "\n",
        "punct_re = r'[^\\w\\s]'\n",
        "songs['no_punc'] = songs['lyrics'].str.replace(punct_re, ' ')\n",
        "songs['wo_newline'] = songs['no_punc'].str.replace('\\n', '')\n",
        "\n",
        "nltk.download('stopwords')\n",
        "stop_words = list(((set(stopwords.words('english')))))"
      ],
      "execution_count": null,
      "outputs": [
        {
          "output_type": "stream",
          "text": [
            "[nltk_data] Downloading package stopwords to /root/nltk_data...\n",
            "[nltk_data]   Package stopwords is already up-to-date!\n"
          ],
          "name": "stdout"
        }
      ]
    },
    {
      "cell_type": "code",
      "metadata": {
        "id": "Ze_loLR91ugd",
        "colab_type": "code",
        "colab": {}
      },
      "source": [
        "songs_2010_2016 = songs[songs['year'] >= 2010]\n",
        "final_songs_2010_16 = songs_2010_2016.loc[songs_2010_2016['length'] >= 100]"
      ],
      "execution_count": null,
      "outputs": []
    },
    {
      "cell_type": "code",
      "metadata": {
        "id": "BRQ8egyE2PjA",
        "colab_type": "code",
        "colab": {}
      },
      "source": [
        "pop_genres = final_songs_2010_16.loc[(final_songs_2010_16['genre'] == 'Pop') |\n",
        "                                 (final_songs_2010_16['genre'] == 'Rock') |\n",
        "                                 (final_songs_2010_16['genre'] == 'Metal') |\n",
        "                                 (final_songs_2010_16['genre'] == 'Hip-Hop')]\n",
        "new_df = pop_genres.loc[:, ['genre', 'length', 'wo_newline']]                              "
      ],
      "execution_count": null,
      "outputs": []
    },
    {
      "cell_type": "code",
      "metadata": {
        "id": "yF9N3jY72_ZJ",
        "colab_type": "code",
        "colab": {
          "base_uri": "https://localhost:8080/",
          "height": 204
        },
        "outputId": "dc5dbe8a-3715-4070-c259-9bdd70a8e908"
      },
      "source": [
        "new_df.columns = ['genre', 'length', 'lyrics']\n",
        "new_df.head()"
      ],
      "execution_count": null,
      "outputs": [
        {
          "output_type": "execute_result",
          "data": {
            "text/html": [
              "<div>\n",
              "<style scoped>\n",
              "    .dataframe tbody tr th:only-of-type {\n",
              "        vertical-align: middle;\n",
              "    }\n",
              "\n",
              "    .dataframe tbody tr th {\n",
              "        vertical-align: top;\n",
              "    }\n",
              "\n",
              "    .dataframe thead th {\n",
              "        text-align: right;\n",
              "    }\n",
              "</style>\n",
              "<table border=\"1\" class=\"dataframe\">\n",
              "  <thead>\n",
              "    <tr style=\"text-align: right;\">\n",
              "      <th></th>\n",
              "      <th>genre</th>\n",
              "      <th>length</th>\n",
              "      <th>lyrics</th>\n",
              "    </tr>\n",
              "  </thead>\n",
              "  <tbody>\n",
              "    <tr>\n",
              "      <th>55</th>\n",
              "      <td>Pop</td>\n",
              "      <td>855</td>\n",
              "      <td>andre 3000 i  i  i left no time to regretkept...</td>\n",
              "    </tr>\n",
              "    <tr>\n",
              "      <th>56</th>\n",
              "      <td>Pop</td>\n",
              "      <td>4291</td>\n",
              "      <td>verse 1  beyonce i ve been watching for the s...</td>\n",
              "    </tr>\n",
              "    <tr>\n",
              "      <th>57</th>\n",
              "      <td>Pop</td>\n",
              "      <td>1773</td>\n",
              "      <td>verse 1 when the palm of my two hands hold ea...</td>\n",
              "    </tr>\n",
              "    <tr>\n",
              "      <th>58</th>\n",
              "      <td>Pop</td>\n",
              "      <td>2891</td>\n",
              "      <td>intro  presenter the winner isbeyonce knowles...</td>\n",
              "    </tr>\n",
              "    <tr>\n",
              "      <th>59</th>\n",
              "      <td>Pop</td>\n",
              "      <td>2990</td>\n",
              "      <td>intro your challengers are a young group from...</td>\n",
              "    </tr>\n",
              "  </tbody>\n",
              "</table>\n",
              "</div>"
            ],
            "text/plain": [
              "   genre  length                                             lyrics\n",
              "55   Pop     855   andre 3000 i  i  i left no time to regretkept...\n",
              "56   Pop    4291   verse 1  beyonce i ve been watching for the s...\n",
              "57   Pop    1773   verse 1 when the palm of my two hands hold ea...\n",
              "58   Pop    2891   intro  presenter the winner isbeyonce knowles...\n",
              "59   Pop    2990   intro your challengers are a young group from..."
            ]
          },
          "metadata": {
            "tags": []
          },
          "execution_count": 17
        }
      ]
    },
    {
      "cell_type": "code",
      "metadata": {
        "id": "esThYHai39SI",
        "colab_type": "code",
        "colab": {
          "base_uri": "https://localhost:8080/",
          "height": 204
        },
        "outputId": "aea572b2-1a45-4303-9cb5-417c7f50d12d"
      },
      "source": [
        "new_df['lyrics'] = new_df['lyrics'].apply(lambda x: ' '.join([item for item in x.split() if item not in stop_words]))\n",
        "new_df.head()"
      ],
      "execution_count": null,
      "outputs": [
        {
          "output_type": "execute_result",
          "data": {
            "text/html": [
              "<div>\n",
              "<style scoped>\n",
              "    .dataframe tbody tr th:only-of-type {\n",
              "        vertical-align: middle;\n",
              "    }\n",
              "\n",
              "    .dataframe tbody tr th {\n",
              "        vertical-align: top;\n",
              "    }\n",
              "\n",
              "    .dataframe thead th {\n",
              "        text-align: right;\n",
              "    }\n",
              "</style>\n",
              "<table border=\"1\" class=\"dataframe\">\n",
              "  <thead>\n",
              "    <tr style=\"text-align: right;\">\n",
              "      <th></th>\n",
              "      <th>genre</th>\n",
              "      <th>length</th>\n",
              "      <th>lyrics</th>\n",
              "    </tr>\n",
              "  </thead>\n",
              "  <tbody>\n",
              "    <tr>\n",
              "      <th>55</th>\n",
              "      <td>Pop</td>\n",
              "      <td>855</td>\n",
              "      <td>andre 3000 left time regretkept dick wet old b...</td>\n",
              "    </tr>\n",
              "    <tr>\n",
              "      <th>56</th>\n",
              "      <td>Pop</td>\n",
              "      <td>4291</td>\n",
              "      <td>verse 1 beyonce watching signstook trip clear ...</td>\n",
              "    </tr>\n",
              "    <tr>\n",
              "      <th>57</th>\n",
              "      <td>Pop</td>\n",
              "      <td>1773</td>\n",
              "      <td>verse 1 palm two hands hold otherthat feels di...</td>\n",
              "    </tr>\n",
              "    <tr>\n",
              "      <th>58</th>\n",
              "      <td>Pop</td>\n",
              "      <td>2891</td>\n",
              "      <td>intro presenter winner isbeyonce knowles femal...</td>\n",
              "    </tr>\n",
              "    <tr>\n",
              "      <th>59</th>\n",
              "      <td>Pop</td>\n",
              "      <td>2990</td>\n",
              "      <td>intro challengers young group houstonwelcome b...</td>\n",
              "    </tr>\n",
              "  </tbody>\n",
              "</table>\n",
              "</div>"
            ],
            "text/plain": [
              "   genre  length                                             lyrics\n",
              "55   Pop     855  andre 3000 left time regretkept dick wet old b...\n",
              "56   Pop    4291  verse 1 beyonce watching signstook trip clear ...\n",
              "57   Pop    1773  verse 1 palm two hands hold otherthat feels di...\n",
              "58   Pop    2891  intro presenter winner isbeyonce knowles femal...\n",
              "59   Pop    2990  intro challengers young group houstonwelcome b..."
            ]
          },
          "metadata": {
            "tags": []
          },
          "execution_count": 18
        }
      ]
    },
    {
      "cell_type": "code",
      "metadata": {
        "colab_type": "code",
        "id": "w5KRj9wS8z6z",
        "scrolled": true,
        "colab": {}
      },
      "source": [
        "lyric_pop = new_df[new_df['genre'] == 'Pop']['lyrics']\n",
        "lyric_hiphop = new_df[new_df['genre'] == 'Hip-Hop']['lyrics']\n",
        "lyric_rock = new_df[new_df['genre'] == 'Rock']['lyrics']\n",
        "lyric_metal = new_df[new_df['genre'] == 'Metal']['lyrics']"
      ],
      "execution_count": null,
      "outputs": []
    },
    {
      "cell_type": "code",
      "metadata": {
        "colab_type": "code",
        "id": "gBOwxURz8z63",
        "colab": {
          "base_uri": "https://localhost:8080/",
          "height": 221
        },
        "outputId": "116b79b4-4e48-445b-d99a-13a1d193889a"
      },
      "source": [
        "lyric_pop"
      ],
      "execution_count": null,
      "outputs": [
        {
          "output_type": "execute_result",
          "data": {
            "text/plain": [
              "55        andre 3000 left time regretkept dick wet old b...\n",
              "56        verse 1 beyonce watching signstook trip clear ...\n",
              "57        verse 1 palm two hands hold otherthat feels di...\n",
              "58        intro presenter winner isbeyonce knowles femal...\n",
              "59        intro challengers young group houstonwelcome b...\n",
              "                                ...                        \n",
              "362210    photographs taking noware taken againwhen heav...\n",
              "362211    met moko jumbie walks stilts saints rowlooking...\n",
              "362212    chill hollow pondsset sail kidin heat wave hit...\n",
              "362213    celebrate passing drugsput back seat whilethey...\n",
              "362214    serve doneand parish shuffled someand may freq...\n",
              "Name: lyrics, Length: 14310, dtype: object"
            ]
          },
          "metadata": {
            "tags": []
          },
          "execution_count": 20
        }
      ]
    },
    {
      "cell_type": "code",
      "metadata": {
        "colab_type": "code",
        "id": "y7ar5CZ78z7B",
        "colab": {}
      },
      "source": [
        "common_pop = Counter(\" \".join(lyric_pop).split()).most_common()\n",
        "\n",
        "pop_common = []\n",
        "for k, v in common_pop:\n",
        "  if len(k) > 3:\n",
        "    pop_common.append(k)\n",
        "pop_100 = pop_common[:100]"
      ],
      "execution_count": null,
      "outputs": []
    },
    {
      "cell_type": "code",
      "metadata": {
        "colab_type": "code",
        "id": "7bent1VKMjXU",
        "colab": {}
      },
      "source": [
        "common_hiphop = Counter(\" \".join(lyric_hiphop).split()).most_common()\n",
        "\n",
        "hiphop_common = []\n",
        "for k, v in common_hiphop:\n",
        "  if len(k) > 3:\n",
        "    hiphop_common.append(k)\n",
        "hiphop_100 = hiphop_common[:100]"
      ],
      "execution_count": null,
      "outputs": []
    },
    {
      "cell_type": "code",
      "metadata": {
        "colab_type": "code",
        "id": "a_KrhK7VOkht",
        "colab": {}
      },
      "source": [
        "common_rock = Counter(\" \".join(lyric_rock).split()).most_common()\n",
        "\n",
        "rock_common = []\n",
        "for k, v in common_rock:\n",
        "  if len(k) > 3:\n",
        "    rock_common.append(k)\n",
        "rock_100 = rock_common[:100]"
      ],
      "execution_count": null,
      "outputs": []
    },
    {
      "cell_type": "code",
      "metadata": {
        "colab_type": "code",
        "id": "LgvKSTVuPwc0",
        "colab": {}
      },
      "source": [
        "common_metal = Counter(\" \".join(lyric_metal).split()).most_common()\n",
        "\n",
        "metal_common = []\n",
        "for k, v in common_metal:\n",
        "  if len(k)> 3:\n",
        "    metal_common.append(k)\n",
        "metal_100 = metal_common[:100]"
      ],
      "execution_count": null,
      "outputs": []
    },
    {
      "cell_type": "code",
      "metadata": {
        "colab_type": "code",
        "id": "S_4m2D8n8z7L",
        "colab": {
          "base_uri": "https://localhost:8080/",
          "height": 187
        },
        "outputId": "88d87dbb-cba0-4013-f175-34dc27b720b2"
      },
      "source": [
        "without_pop = hiphop_100 + rock_100 + metal_100\n",
        "unique_pop = []\n",
        "for i in range(len(pop_common)):\n",
        "  if pop_common[i] not in without_pop:\n",
        "    unique_pop.append(pop_common[i])\n",
        "unique_pop[:10]"
      ],
      "execution_count": null,
      "outputs": [
        {
          "output_type": "execute_result",
          "data": {
            "text/plain": [
              "['hands',\n",
              " 'tonight',\n",
              " 'wish',\n",
              " 'kiss',\n",
              " 'girls',\n",
              " 'dance',\n",
              " 'start',\n",
              " 'ready',\n",
              " 'crazy',\n",
              " 'miss']"
            ]
          },
          "metadata": {
            "tags": []
          },
          "execution_count": 25
        }
      ]
    },
    {
      "cell_type": "code",
      "metadata": {
        "colab_type": "code",
        "id": "h81ZnCd9cNQc",
        "colab": {
          "base_uri": "https://localhost:8080/",
          "height": 187
        },
        "outputId": "5176b8c9-6200-4b82-9d79-86ec72d00875"
      },
      "source": [
        "without_hiphop = pop_100 + rock_100 + metal_100\n",
        "unique_hiphop = []\n",
        "for i in range(len(hiphop_common)):\n",
        "  if hiphop_common[i] not in without_pop:\n",
        "    unique_hiphop.append(hiphop_common[i])\n",
        "\n",
        "unique_hiphop[:10]"
      ],
      "execution_count": null,
      "outputs": [
        {
          "output_type": "execute_result",
          "data": {
            "text/plain": [
              "['mean',\n",
              " 'beat',\n",
              " 'watch',\n",
              " 'move',\n",
              " 'first',\n",
              " 'used',\n",
              " 'everybody',\n",
              " 'talking',\n",
              " 'girls',\n",
              " 'gettin']"
            ]
          },
          "metadata": {
            "tags": []
          },
          "execution_count": 26
        }
      ]
    },
    {
      "cell_type": "code",
      "metadata": {
        "colab_type": "code",
        "id": "p7x5C383dUV_",
        "colab": {
          "base_uri": "https://localhost:8080/",
          "height": 187
        },
        "outputId": "c653b927-d1c0-451c-abcf-9ff18e352dc0"
      },
      "source": [
        "without_rock = hiphop_100 + pop_100 + metal_100\n",
        "unique_rock = []\n",
        "for i in range(len(rock_common)):\n",
        "  if rock_common[i] not in without_rock:\n",
        "    unique_rock.append(rock_common[i])\n",
        "unique_rock[:10]\n"
      ],
      "execution_count": null,
      "outputs": [
        {
          "output_type": "execute_result",
          "data": {
            "text/plain": [
              "['well',\n",
              " 'coming',\n",
              " 'place',\n",
              " 'comes',\n",
              " 'wait',\n",
              " 'hand',\n",
              " 'found',\n",
              " 'someone',\n",
              " 'sing',\n",
              " 'used']"
            ]
          },
          "metadata": {
            "tags": []
          },
          "execution_count": 27
        }
      ]
    },
    {
      "cell_type": "code",
      "metadata": {
        "colab_type": "code",
        "id": "8QU5M99piIvj",
        "colab": {
          "base_uri": "https://localhost:8080/",
          "height": 187
        },
        "outputId": "93b89475-2483-45a7-8164-eb3f170f3be1"
      },
      "source": [
        "without_metal = hiphop_100 + pop_100 + rock_100\n",
        "unique_metal = []\n",
        "for i in range(len(metal_common)):\n",
        "  if metal_common[i] not in without_metal:\n",
        "    unique_metal.append(metal_common[i])\n",
        "unique_metal[:10]"
      ],
      "execution_count": null,
      "outputs": [
        {
          "output_type": "execute_result",
          "data": {
            "text/plain": [
              "['blood',\n",
              " 'dead',\n",
              " 'death',\n",
              " 'must',\n",
              " 'hell',\n",
              " 'soul',\n",
              " 'pain',\n",
              " 'fight',\n",
              " 'fear',\n",
              " 'hate']"
            ]
          },
          "metadata": {
            "tags": []
          },
          "execution_count": 28
        }
      ]
    },
    {
      "cell_type": "code",
      "metadata": {
        "colab_type": "code",
        "id": "5F5xK7WgjMHT",
        "colab": {}
      },
      "source": [
        "joined_hiphop = '|'.join(unique_hiphop[:10])\n",
        "joined_metal = '|'.join(unique_metal[:10])\n",
        "joined_pop = '|'.join(unique_pop[:10])\n",
        "joined_rock = '|'.join(unique_rock[:10])"
      ],
      "execution_count": null,
      "outputs": []
    },
    {
      "cell_type": "code",
      "metadata": {
        "colab_type": "code",
        "id": "uWSp5EAckFke",
        "colab": {}
      },
      "source": [
        "new_df['hiphop'] = (new_df.loc[:, 'lyrics']).str.contains(joined_hiphop) * 1\n",
        "new_df['metal'] = (new_df.loc[:, 'lyrics']).str.contains(joined_metal) * 1\n",
        "new_df['pop'] = (new_df.loc[:, 'lyrics']).str.contains(joined_pop) * 1\n",
        "new_df['rock'] = (new_df.loc[:, 'lyrics']).str.contains(joined_rock) * 1"
      ],
      "execution_count": null,
      "outputs": []
    },
    {
      "cell_type": "code",
      "metadata": {
        "id": "YOHGMqfd8WVb",
        "colab_type": "code",
        "colab": {
          "base_uri": "https://localhost:8080/",
          "height": 204
        },
        "outputId": "23bb0863-5dee-464f-bedc-dbcc3ef5b114"
      },
      "source": [
        "new_df.head()"
      ],
      "execution_count": null,
      "outputs": [
        {
          "output_type": "execute_result",
          "data": {
            "text/html": [
              "<div>\n",
              "<style scoped>\n",
              "    .dataframe tbody tr th:only-of-type {\n",
              "        vertical-align: middle;\n",
              "    }\n",
              "\n",
              "    .dataframe tbody tr th {\n",
              "        vertical-align: top;\n",
              "    }\n",
              "\n",
              "    .dataframe thead th {\n",
              "        text-align: right;\n",
              "    }\n",
              "</style>\n",
              "<table border=\"1\" class=\"dataframe\">\n",
              "  <thead>\n",
              "    <tr style=\"text-align: right;\">\n",
              "      <th></th>\n",
              "      <th>genre</th>\n",
              "      <th>length</th>\n",
              "      <th>lyrics</th>\n",
              "      <th>hiphop</th>\n",
              "      <th>metal</th>\n",
              "      <th>pop</th>\n",
              "      <th>rock</th>\n",
              "    </tr>\n",
              "  </thead>\n",
              "  <tbody>\n",
              "    <tr>\n",
              "      <th>55</th>\n",
              "      <td>Pop</td>\n",
              "      <td>855</td>\n",
              "      <td>andre 3000 left time regretkept dick wet old b...</td>\n",
              "      <td>1</td>\n",
              "      <td>0</td>\n",
              "      <td>0</td>\n",
              "      <td>1</td>\n",
              "    </tr>\n",
              "    <tr>\n",
              "      <th>56</th>\n",
              "      <td>Pop</td>\n",
              "      <td>4291</td>\n",
              "      <td>verse 1 beyonce watching signstook trip clear ...</td>\n",
              "      <td>1</td>\n",
              "      <td>1</td>\n",
              "      <td>1</td>\n",
              "      <td>1</td>\n",
              "    </tr>\n",
              "    <tr>\n",
              "      <th>57</th>\n",
              "      <td>Pop</td>\n",
              "      <td>1773</td>\n",
              "      <td>verse 1 palm two hands hold otherthat feels di...</td>\n",
              "      <td>1</td>\n",
              "      <td>0</td>\n",
              "      <td>1</td>\n",
              "      <td>1</td>\n",
              "    </tr>\n",
              "    <tr>\n",
              "      <th>58</th>\n",
              "      <td>Pop</td>\n",
              "      <td>2891</td>\n",
              "      <td>intro presenter winner isbeyonce knowles femal...</td>\n",
              "      <td>1</td>\n",
              "      <td>1</td>\n",
              "      <td>1</td>\n",
              "      <td>1</td>\n",
              "    </tr>\n",
              "    <tr>\n",
              "      <th>59</th>\n",
              "      <td>Pop</td>\n",
              "      <td>2990</td>\n",
              "      <td>intro challengers young group houstonwelcome b...</td>\n",
              "      <td>1</td>\n",
              "      <td>1</td>\n",
              "      <td>1</td>\n",
              "      <td>1</td>\n",
              "    </tr>\n",
              "  </tbody>\n",
              "</table>\n",
              "</div>"
            ],
            "text/plain": [
              "   genre  length  ... pop  rock\n",
              "55   Pop     855  ...   0     1\n",
              "56   Pop    4291  ...   1     1\n",
              "57   Pop    1773  ...   1     1\n",
              "58   Pop    2891  ...   1     1\n",
              "59   Pop    2990  ...   1     1\n",
              "\n",
              "[5 rows x 7 columns]"
            ]
          },
          "metadata": {
            "tags": []
          },
          "execution_count": 31
        }
      ]
    },
    {
      "cell_type": "code",
      "metadata": {
        "colab_type": "code",
        "id": "VObxO7DeuwtK",
        "colab": {
          "base_uri": "https://localhost:8080/",
          "height": 51
        },
        "outputId": "b2d8a4c6-0bf6-43e8-883f-4d5866083e61"
      },
      "source": [
        "nltk.download('vader_lexicon')\n",
        "sid = SentimentIntensityAnalyzer()"
      ],
      "execution_count": null,
      "outputs": [
        {
          "output_type": "stream",
          "text": [
            "[nltk_data] Downloading package vader_lexicon to /root/nltk_data...\n",
            "[nltk_data]   Package vader_lexicon is already up-to-date!\n"
          ],
          "name": "stdout"
        }
      ]
    },
    {
      "cell_type": "code",
      "metadata": {
        "colab_type": "code",
        "id": "CIcf4RyWwHdu",
        "colab": {}
      },
      "source": [
        "def polarity_calc(text):\n",
        "  comp = sid.polarity_scores(text)\n",
        "  return comp[\"compound\"]\n",
        "\n",
        "def polar(df):\n",
        "    polars = []\n",
        "    new_df = pd.DataFrame(df['lyrics'])\n",
        "    for _, row in new_df.iterrows():\n",
        "        p = polarity_calc(row.values[0])\n",
        "        polars.append(p)\n",
        "    return polars"
      ],
      "execution_count": null,
      "outputs": []
    },
    {
      "cell_type": "code",
      "metadata": {
        "id": "wP9t2YR9A2q2",
        "colab_type": "code",
        "colab": {}
      },
      "source": [
        "new_df['polarity'] = polar(new_df)"
      ],
      "execution_count": null,
      "outputs": []
    },
    {
      "cell_type": "code",
      "metadata": {
        "id": "KAfvRqVrBACX",
        "colab_type": "code",
        "colab": {
          "base_uri": "https://localhost:8080/",
          "height": 204
        },
        "outputId": "5ac7efc3-23e1-4c56-dfac-31c48cc2cbe6"
      },
      "source": [
        "new_df.head()"
      ],
      "execution_count": null,
      "outputs": [
        {
          "output_type": "execute_result",
          "data": {
            "text/html": [
              "<div>\n",
              "<style scoped>\n",
              "    .dataframe tbody tr th:only-of-type {\n",
              "        vertical-align: middle;\n",
              "    }\n",
              "\n",
              "    .dataframe tbody tr th {\n",
              "        vertical-align: top;\n",
              "    }\n",
              "\n",
              "    .dataframe thead th {\n",
              "        text-align: right;\n",
              "    }\n",
              "</style>\n",
              "<table border=\"1\" class=\"dataframe\">\n",
              "  <thead>\n",
              "    <tr style=\"text-align: right;\">\n",
              "      <th></th>\n",
              "      <th>genre</th>\n",
              "      <th>length</th>\n",
              "      <th>lyrics</th>\n",
              "      <th>hiphop</th>\n",
              "      <th>metal</th>\n",
              "      <th>pop</th>\n",
              "      <th>rock</th>\n",
              "      <th>polarity</th>\n",
              "    </tr>\n",
              "  </thead>\n",
              "  <tbody>\n",
              "    <tr>\n",
              "      <th>55</th>\n",
              "      <td>Pop</td>\n",
              "      <td>855</td>\n",
              "      <td>andre 3000 left time regretkept dick wet old b...</td>\n",
              "      <td>1</td>\n",
              "      <td>0</td>\n",
              "      <td>0</td>\n",
              "      <td>1</td>\n",
              "      <td>-0.4939</td>\n",
              "    </tr>\n",
              "    <tr>\n",
              "      <th>56</th>\n",
              "      <td>Pop</td>\n",
              "      <td>4291</td>\n",
              "      <td>verse 1 beyonce watching signstook trip clear ...</td>\n",
              "      <td>1</td>\n",
              "      <td>1</td>\n",
              "      <td>1</td>\n",
              "      <td>1</td>\n",
              "      <td>0.9971</td>\n",
              "    </tr>\n",
              "    <tr>\n",
              "      <th>57</th>\n",
              "      <td>Pop</td>\n",
              "      <td>1773</td>\n",
              "      <td>verse 1 palm two hands hold otherthat feels di...</td>\n",
              "      <td>1</td>\n",
              "      <td>0</td>\n",
              "      <td>1</td>\n",
              "      <td>1</td>\n",
              "      <td>0.9711</td>\n",
              "    </tr>\n",
              "    <tr>\n",
              "      <th>58</th>\n",
              "      <td>Pop</td>\n",
              "      <td>2891</td>\n",
              "      <td>intro presenter winner isbeyonce knowles femal...</td>\n",
              "      <td>1</td>\n",
              "      <td>1</td>\n",
              "      <td>1</td>\n",
              "      <td>1</td>\n",
              "      <td>-0.8402</td>\n",
              "    </tr>\n",
              "    <tr>\n",
              "      <th>59</th>\n",
              "      <td>Pop</td>\n",
              "      <td>2990</td>\n",
              "      <td>intro challengers young group houstonwelcome b...</td>\n",
              "      <td>1</td>\n",
              "      <td>1</td>\n",
              "      <td>1</td>\n",
              "      <td>1</td>\n",
              "      <td>0.9928</td>\n",
              "    </tr>\n",
              "  </tbody>\n",
              "</table>\n",
              "</div>"
            ],
            "text/plain": [
              "   genre  length  ... rock  polarity\n",
              "55   Pop     855  ...    1   -0.4939\n",
              "56   Pop    4291  ...    1    0.9971\n",
              "57   Pop    1773  ...    1    0.9711\n",
              "58   Pop    2891  ...    1   -0.8402\n",
              "59   Pop    2990  ...    1    0.9928\n",
              "\n",
              "[5 rows x 8 columns]"
            ]
          },
          "metadata": {
            "tags": []
          },
          "execution_count": 35
        }
      ]
    },
    {
      "cell_type": "code",
      "metadata": {
        "id": "cfYo7m9QIR7p",
        "colab_type": "code",
        "colab": {}
      },
      "source": [
        "random_pop = new_df[new_df['genre'] == 'Pop'].sample(2500)\n",
        "random_rock = new_df[new_df['genre'] == 'Rock'].sample(2500)\n",
        "random_metal = new_df[new_df['genre'] == 'Metal'].sample(2500)\n",
        "random_hiphop = new_df[new_df['genre'] == 'Hip-Hop'].sample(2500)"
      ],
      "execution_count": null,
      "outputs": []
    },
    {
      "cell_type": "code",
      "metadata": {
        "id": "O82ya0zQJUdD",
        "colab_type": "code",
        "colab": {}
      },
      "source": [
        "final_df = random_pop.append(random_rock).append(random_hiphop).append(random_metal)"
      ],
      "execution_count": null,
      "outputs": []
    },
    {
      "cell_type": "code",
      "metadata": {
        "colab_type": "code",
        "id": "9tadV8pAvVvJ",
        "colab": {}
      },
      "source": [
        "def baseline_model():\n",
        "  model = Sequential()\n",
        "  model.add(Dense(6, input_dim=6, activation='relu'))\n",
        "  model.add(Dense(4, activation='softmax'))\n",
        "  model.compile(loss='categorical_crossentropy', optimizer='adam', metrics=['accuracy'])\n",
        "  return model"
      ],
      "execution_count": null,
      "outputs": []
    },
    {
      "cell_type": "code",
      "metadata": {
        "colab_type": "code",
        "id": "sJ9gY-OLlbc_",
        "colab": {}
      },
      "source": [
        "X = final_df.loc[:, ['length', 'hiphop', 'metal', 'pop', 'rock', 'polarity']]\n",
        "X_normal = preprocessing.normalize(X)\n",
        "y = final_df.loc[:, 'genre']"
      ],
      "execution_count": null,
      "outputs": []
    },
    {
      "cell_type": "code",
      "metadata": {
        "colab_type": "code",
        "id": "JwLN5gm1yw_2",
        "colab": {}
      },
      "source": [
        "# Creating the Training and Test set from data\n",
        "X_train, X_test, y_train, y_test = train_test_split(X_normal, y, test_size = 0.25, random_state = 21)"
      ],
      "execution_count": null,
      "outputs": []
    },
    {
      "cell_type": "code",
      "metadata": {
        "colab_type": "code",
        "id": "4Lif5m0-rT3m",
        "colab": {}
      },
      "source": [
        "encoder = LabelEncoder()\n",
        "encoder.fit(y_train)\n",
        "encoded_y = encoder.transform(y_train)\n",
        "dummy_y = np_utils.to_categorical(encoded_y)"
      ],
      "execution_count": null,
      "outputs": []
    },
    {
      "cell_type": "code",
      "metadata": {
        "colab_type": "code",
        "id": "MYeQoWORrYSy",
        "colab": {}
      },
      "source": [
        "estimator = KerasClassifier(build_fn=baseline_model, epochs=50, batch_size=5, verbose=0)\n",
        "kfold = KFold(n_splits=3, shuffle=True)"
      ],
      "execution_count": null,
      "outputs": []
    },
    {
      "cell_type": "code",
      "metadata": {
        "colab_type": "code",
        "id": "_u-vggJTrcih",
        "colab": {
          "base_uri": "https://localhost:8080/",
          "height": 547
        },
        "outputId": "53d7c604-6c83-4dc9-9e0c-65ede33a452f"
      },
      "source": [
        "# Nueral Network model with our featured dataset.\n",
        "results = cross_val_score(estimator, X_train, dummy_y, cv=kfold)\n",
        "print(\"Baseline: %.2f%% (%.2f%%)\" % (results.mean()*100, results.std()*100))"
      ],
      "execution_count": null,
      "outputs": [
        {
          "output_type": "stream",
          "text": [
            "WARNING:tensorflow:From /usr/local/lib/python3.6/dist-packages/keras/backend/tensorflow_backend.py:66: The name tf.get_default_graph is deprecated. Please use tf.compat.v1.get_default_graph instead.\n",
            "\n",
            "WARNING:tensorflow:From /usr/local/lib/python3.6/dist-packages/keras/backend/tensorflow_backend.py:541: The name tf.placeholder is deprecated. Please use tf.compat.v1.placeholder instead.\n",
            "\n",
            "WARNING:tensorflow:From /usr/local/lib/python3.6/dist-packages/keras/backend/tensorflow_backend.py:4432: The name tf.random_uniform is deprecated. Please use tf.random.uniform instead.\n",
            "\n",
            "WARNING:tensorflow:From /usr/local/lib/python3.6/dist-packages/keras/optimizers.py:793: The name tf.train.Optimizer is deprecated. Please use tf.compat.v1.train.Optimizer instead.\n",
            "\n",
            "WARNING:tensorflow:From /usr/local/lib/python3.6/dist-packages/keras/backend/tensorflow_backend.py:3576: The name tf.log is deprecated. Please use tf.math.log instead.\n",
            "\n",
            "WARNING:tensorflow:From /usr/local/lib/python3.6/dist-packages/tensorflow_core/python/ops/math_grad.py:1424: where (from tensorflow.python.ops.array_ops) is deprecated and will be removed in a future version.\n",
            "Instructions for updating:\n",
            "Use tf.where in 2.0, which has the same broadcast rule as np.where\n",
            "WARNING:tensorflow:From /usr/local/lib/python3.6/dist-packages/keras/backend/tensorflow_backend.py:1033: The name tf.assign_add is deprecated. Please use tf.compat.v1.assign_add instead.\n",
            "\n",
            "WARNING:tensorflow:From /usr/local/lib/python3.6/dist-packages/keras/backend/tensorflow_backend.py:1020: The name tf.assign is deprecated. Please use tf.compat.v1.assign instead.\n",
            "\n",
            "WARNING:tensorflow:From /usr/local/lib/python3.6/dist-packages/keras/backend/tensorflow_backend.py:3005: The name tf.Session is deprecated. Please use tf.compat.v1.Session instead.\n",
            "\n",
            "WARNING:tensorflow:From /usr/local/lib/python3.6/dist-packages/keras/backend/tensorflow_backend.py:190: The name tf.get_default_session is deprecated. Please use tf.compat.v1.get_default_session instead.\n",
            "\n",
            "WARNING:tensorflow:From /usr/local/lib/python3.6/dist-packages/keras/backend/tensorflow_backend.py:197: The name tf.ConfigProto is deprecated. Please use tf.compat.v1.ConfigProto instead.\n",
            "\n",
            "WARNING:tensorflow:From /usr/local/lib/python3.6/dist-packages/keras/backend/tensorflow_backend.py:207: The name tf.global_variables is deprecated. Please use tf.compat.v1.global_variables instead.\n",
            "\n",
            "WARNING:tensorflow:From /usr/local/lib/python3.6/dist-packages/keras/backend/tensorflow_backend.py:216: The name tf.is_variable_initialized is deprecated. Please use tf.compat.v1.is_variable_initialized instead.\n",
            "\n",
            "WARNING:tensorflow:From /usr/local/lib/python3.6/dist-packages/keras/backend/tensorflow_backend.py:223: The name tf.variables_initializer is deprecated. Please use tf.compat.v1.variables_initializer instead.\n",
            "\n",
            "Baseline: 29.92% (4.87%)\n"
          ],
          "name": "stdout"
        }
      ]
    },
    {
      "cell_type": "code",
      "metadata": {
        "colab_type": "code",
        "id": "X13-FYut0B4O",
        "colab": {}
      },
      "source": [
        "# RandomForestClassifier model with our featured dataset.\n",
        "forest = RandomForestClassifier(n_estimators=100, random_state=1)\n",
        "classifier = MultiOutputClassifier(forest, n_jobs=-1)\n",
        "classifier.fit(X_train, dummy_y)\n",
        "y_pred_rf = classifier.predict(X_test)"
      ],
      "execution_count": null,
      "outputs": []
    },
    {
      "cell_type": "code",
      "metadata": {
        "colab_type": "code",
        "id": "zKL05YnS3xQF",
        "colab": {}
      },
      "source": [
        "# One-Hot Encoding test set.\n",
        "encoded_y_test = encoder.transform(y_test)\n",
        "dummy_y_test = np_utils.to_categorical(encoded_y_test)"
      ],
      "execution_count": null,
      "outputs": []
    },
    {
      "cell_type": "code",
      "metadata": {
        "colab_type": "code",
        "id": "j1irVqyi4JGh",
        "colab": {}
      },
      "source": [
        "# Function to get random forest accuracy\n",
        "def rf_acc(test, pred):\n",
        "  num = len(test)\n",
        "  t = pd.DataFrame(test)\n",
        "  p  = pd.DataFrame(pred)\n",
        "  correct = 0\n",
        "  for i in range(num):\n",
        "    if (t.iloc[i, :] == p.iloc[i, :]).all():\n",
        "      correct += 1\n",
        "  return correct / num"
      ],
      "execution_count": null,
      "outputs": []
    },
    {
      "cell_type": "code",
      "metadata": {
        "colab_type": "code",
        "id": "WGfDkIkBFAnb",
        "colab": {
          "base_uri": "https://localhost:8080/",
          "height": 34
        },
        "outputId": "67b0fc6d-5091-4480-888a-7d680ceba567"
      },
      "source": [
        "rf_acc(dummy_y_test, y_pred_rf)"
      ],
      "execution_count": null,
      "outputs": [
        {
          "output_type": "execute_result",
          "data": {
            "text/plain": [
              "0.3128"
            ]
          },
          "metadata": {
            "tags": []
          },
          "execution_count": 67
        }
      ]
    },
    {
      "cell_type": "code",
      "metadata": {
        "colab_type": "code",
        "id": "Gd_VS0_CQrSt",
        "colab": {}
      },
      "source": [
        "# tf-idf Vectorization\n",
        "vectorizer = TfidfVectorizer()\n",
        "tf_vec = vectorizer.fit_transform(final_df['lyrics'])"
      ],
      "execution_count": null,
      "outputs": []
    },
    {
      "cell_type": "code",
      "metadata": {
        "id": "AUPCKAFiMGlB",
        "colab_type": "code",
        "colab": {}
      },
      "source": [
        "X_train_tf, X_test_tf, y_train_tf, y_test_tf = train_test_split(tf_vec, y, test_size = 0.25, random_state = 21)\n",
        "encoder.fit(y_train_tf)\n",
        "encoded_y_train_tf = encoder.transform(y_train_tf)\n",
        "dummy_y_train_tf = np_utils.to_categorical(encoded_y_train_tf)\n",
        "\n",
        "encoded_y_test_tf = encoder.transform(y_test_tf)\n",
        "dummy_y_test_tf = np_utils.to_categorical(encoded_y_test_tf)"
      ],
      "execution_count": null,
      "outputs": []
    },
    {
      "cell_type": "code",
      "metadata": {
        "colab_type": "code",
        "id": "h0EiU4nNiiwC",
        "colab": {
          "base_uri": "https://localhost:8080/",
          "height": 190
        },
        "outputId": "f1a4cc44-aee9-402d-b8ce-8fd6bbae1045"
      },
      "source": [
        "# Random Forest Model with only tf-idf Vectorization\n",
        "rf = RandomForestClassifier()\n",
        "rf.fit(X_train_tf, y_train_tf)"
      ],
      "execution_count": null,
      "outputs": [
        {
          "output_type": "stream",
          "text": [
            "/usr/local/lib/python3.6/dist-packages/sklearn/ensemble/forest.py:245: FutureWarning: The default value of n_estimators will change from 10 in version 0.20 to 100 in 0.22.\n",
            "  \"10 in version 0.20 to 100 in 0.22.\", FutureWarning)\n"
          ],
          "name": "stderr"
        },
        {
          "output_type": "execute_result",
          "data": {
            "text/plain": [
              "RandomForestClassifier(bootstrap=True, class_weight=None, criterion='gini',\n",
              "                       max_depth=None, max_features='auto', max_leaf_nodes=None,\n",
              "                       min_impurity_decrease=0.0, min_impurity_split=None,\n",
              "                       min_samples_leaf=1, min_samples_split=2,\n",
              "                       min_weight_fraction_leaf=0.0, n_estimators=10,\n",
              "                       n_jobs=None, oob_score=False, random_state=None,\n",
              "                       verbose=0, warm_start=False)"
            ]
          },
          "metadata": {
            "tags": []
          },
          "execution_count": 87
        }
      ]
    },
    {
      "cell_type": "code",
      "metadata": {
        "colab_type": "code",
        "id": "v5HlOGeOhVTB",
        "colab": {
          "base_uri": "https://localhost:8080/",
          "height": 34
        },
        "outputId": "1c91c5dd-6c0e-4a2c-9893-1122f0455164"
      },
      "source": [
        "rf_acc(np.array(y_test_tf), rf.predict(X_test_tf))"
      ],
      "execution_count": null,
      "outputs": [
        {
          "output_type": "execute_result",
          "data": {
            "text/plain": [
              "0.5484"
            ]
          },
          "metadata": {
            "tags": []
          },
          "execution_count": 99
        }
      ]
    },
    {
      "cell_type": "code",
      "metadata": {
        "id": "WbgZyVx4NGwX",
        "colab_type": "code",
        "colab": {}
      },
      "source": [
        ""
      ],
      "execution_count": null,
      "outputs": []
    }
  ]
}